{
 "cells": [
  {
   "cell_type": "markdown",
   "metadata": {
    "id": "1XbXL5PTAR3L"
   },
   "source": [
    "### First Phase of Model Building | using Afinn.csv"
   ]
  },
  {
   "cell_type": "code",
   "execution_count": 1,
   "metadata": {
    "id": "ryeuvc0QPAoC"
   },
   "outputs": [],
   "source": [
    "import pandas as pd"
   ]
  },
  {
   "cell_type": "code",
   "execution_count": 2,
   "metadata": {
    "id": "8a8jhlScEDZh"
   },
   "outputs": [],
   "source": [
    "# HELPER CODES\n",
    "# from PIL import Image\n",
    "# from plotly import tools\n",
    "# from plotly.offline import init_notebook_mode,iplot,plot\n",
    "# from nrclex import NRCLex"
   ]
  },
  {
   "cell_type": "code",
   "execution_count": 3,
   "metadata": {
    "colab": {
     "base_uri": "https://localhost:8080/",
     "height": 204
    },
    "id": "oo8yQUJjXSUe",
    "outputId": "7dcc4200-5325-4b0d-a801-0834e8dfa5bb"
   },
   "outputs": [
    {
     "data": {
      "text/html": [
       "<div>\n",
       "<style scoped>\n",
       "    .dataframe tbody tr th:only-of-type {\n",
       "        vertical-align: middle;\n",
       "    }\n",
       "\n",
       "    .dataframe tbody tr th {\n",
       "        vertical-align: top;\n",
       "    }\n",
       "\n",
       "    .dataframe thead th {\n",
       "        text-align: right;\n",
       "    }\n",
       "</style>\n",
       "<table border=\"1\" class=\"dataframe\">\n",
       "  <thead>\n",
       "    <tr style=\"text-align: right;\">\n",
       "      <th></th>\n",
       "      <th>customer</th>\n",
       "      <th>review</th>\n",
       "    </tr>\n",
       "  </thead>\n",
       "  <tbody>\n",
       "    <tr>\n",
       "      <th>0</th>\n",
       "      <td>Diksha Suman (@beingsheblog)</td>\n",
       "      <td>Title: THINK AND GROW RICHAuthor: NAPOLEON H...</td>\n",
       "    </tr>\n",
       "    <tr>\n",
       "      <th>1</th>\n",
       "      <td>Naveen Sharma</td>\n",
       "      <td>It took quarter of a century to accumulate i...</td>\n",
       "    </tr>\n",
       "    <tr>\n",
       "      <th>2</th>\n",
       "      <td>SAINATH REDDY</td>\n",
       "      <td>When you face criticism in your life try to ...</td>\n",
       "    </tr>\n",
       "    <tr>\n",
       "      <th>3</th>\n",
       "      <td>Debojit</td>\n",
       "      <td>I was looking through some of the reviews an...</td>\n",
       "    </tr>\n",
       "    <tr>\n",
       "      <th>4</th>\n",
       "      <td>BhaveshB.O.T™</td>\n",
       "      <td>This book can also be called as Think and Gr...</td>\n",
       "    </tr>\n",
       "  </tbody>\n",
       "</table>\n",
       "</div>"
      ],
      "text/plain": [
       "                       customer  \\\n",
       "0  Diksha Suman (@beingsheblog)   \n",
       "1                 Naveen Sharma   \n",
       "2                 SAINATH REDDY   \n",
       "3                       Debojit   \n",
       "4                 BhaveshB.O.T™   \n",
       "\n",
       "                                              review  \n",
       "0    Title: THINK AND GROW RICHAuthor: NAPOLEON H...  \n",
       "1    It took quarter of a century to accumulate i...  \n",
       "2    When you face criticism in your life try to ...  \n",
       "3    I was looking through some of the reviews an...  \n",
       "4    This book can also be called as Think and Gr...  "
      ]
     },
     "execution_count": 3,
     "metadata": {},
     "output_type": "execute_result"
    }
   ],
   "source": [
    "df = pd.read_excel(r\"C:\\Users\\Abel\\Downloads\\Book.xlsx\")\n",
    "df.head()"
   ]
  },
  {
   "cell_type": "code",
   "execution_count": 4,
   "metadata": {
    "colab": {
     "base_uri": "https://localhost:8080/"
    },
    "id": "a9KDlo9hH44f",
    "outputId": "b1ca1e03-486f-4687-ef13-38868e302261"
   },
   "outputs": [
    {
     "data": {
      "text/plain": [
       "customer    0\n",
       "review      0\n",
       "dtype: int64"
      ]
     },
     "execution_count": 4,
     "metadata": {},
     "output_type": "execute_result"
    }
   ],
   "source": [
    "df.dropna(inplace=True)\n",
    "df.isnull().sum()"
   ]
  },
  {
   "cell_type": "code",
   "execution_count": 5,
   "metadata": {
    "colab": {
     "base_uri": "https://localhost:8080/"
    },
    "id": "g2lK3R2PYggE",
    "outputId": "c168b1a6-1ab3-476e-cb14-4f552fd71ce1"
   },
   "outputs": [
    {
     "data": {
      "text/plain": [
       "(2477, 2)"
      ]
     },
     "execution_count": 5,
     "metadata": {},
     "output_type": "execute_result"
    }
   ],
   "source": [
    "# !pip install afinn\n",
    "# from afinn import Afinn\n",
    "# afinn = Afinn(language='en')\n",
    "afinn = pd.read_csv('E:/Afinn.csv', sep=',', encoding='latin-1')\n",
    "afinn.shape"
   ]
  },
  {
   "cell_type": "code",
   "execution_count": 6,
   "metadata": {
    "colab": {
     "base_uri": "https://localhost:8080/",
     "height": 419
    },
    "id": "ThQDGytd9pMh",
    "outputId": "0aa7da56-aac1-40e2-9d68-0d8a73357698"
   },
   "outputs": [
    {
     "data": {
      "text/html": [
       "<div>\n",
       "<style scoped>\n",
       "    .dataframe tbody tr th:only-of-type {\n",
       "        vertical-align: middle;\n",
       "    }\n",
       "\n",
       "    .dataframe tbody tr th {\n",
       "        vertical-align: top;\n",
       "    }\n",
       "\n",
       "    .dataframe thead th {\n",
       "        text-align: right;\n",
       "    }\n",
       "</style>\n",
       "<table border=\"1\" class=\"dataframe\">\n",
       "  <thead>\n",
       "    <tr style=\"text-align: right;\">\n",
       "      <th></th>\n",
       "      <th>word</th>\n",
       "      <th>value</th>\n",
       "    </tr>\n",
       "  </thead>\n",
       "  <tbody>\n",
       "    <tr>\n",
       "      <th>0</th>\n",
       "      <td>abandon</td>\n",
       "      <td>-2</td>\n",
       "    </tr>\n",
       "    <tr>\n",
       "      <th>1</th>\n",
       "      <td>abandoned</td>\n",
       "      <td>-2</td>\n",
       "    </tr>\n",
       "    <tr>\n",
       "      <th>2</th>\n",
       "      <td>abandons</td>\n",
       "      <td>-2</td>\n",
       "    </tr>\n",
       "    <tr>\n",
       "      <th>3</th>\n",
       "      <td>abducted</td>\n",
       "      <td>-2</td>\n",
       "    </tr>\n",
       "    <tr>\n",
       "      <th>4</th>\n",
       "      <td>abduction</td>\n",
       "      <td>-2</td>\n",
       "    </tr>\n",
       "    <tr>\n",
       "      <th>...</th>\n",
       "      <td>...</td>\n",
       "      <td>...</td>\n",
       "    </tr>\n",
       "    <tr>\n",
       "      <th>2472</th>\n",
       "      <td>yucky</td>\n",
       "      <td>-2</td>\n",
       "    </tr>\n",
       "    <tr>\n",
       "      <th>2473</th>\n",
       "      <td>yummy</td>\n",
       "      <td>3</td>\n",
       "    </tr>\n",
       "    <tr>\n",
       "      <th>2474</th>\n",
       "      <td>zealot</td>\n",
       "      <td>-2</td>\n",
       "    </tr>\n",
       "    <tr>\n",
       "      <th>2475</th>\n",
       "      <td>zealots</td>\n",
       "      <td>-2</td>\n",
       "    </tr>\n",
       "    <tr>\n",
       "      <th>2476</th>\n",
       "      <td>zealous</td>\n",
       "      <td>2</td>\n",
       "    </tr>\n",
       "  </tbody>\n",
       "</table>\n",
       "<p>2477 rows × 2 columns</p>\n",
       "</div>"
      ],
      "text/plain": [
       "           word  value\n",
       "0       abandon     -2\n",
       "1     abandoned     -2\n",
       "2      abandons     -2\n",
       "3      abducted     -2\n",
       "4     abduction     -2\n",
       "...         ...    ...\n",
       "2472      yucky     -2\n",
       "2473      yummy      3\n",
       "2474     zealot     -2\n",
       "2475    zealots     -2\n",
       "2476    zealous      2\n",
       "\n",
       "[2477 rows x 2 columns]"
      ]
     },
     "execution_count": 6,
     "metadata": {},
     "output_type": "execute_result"
    }
   ],
   "source": [
    "afinn"
   ]
  },
  {
   "cell_type": "code",
   "execution_count": null,
   "metadata": {
    "id": "C83auzfzC04g"
   },
   "outputs": [],
   "source": []
  },
  {
   "cell_type": "code",
   "execution_count": null,
   "metadata": {
    "id": "_nnlcG6nCzlG"
   },
   "outputs": [],
   "source": []
  },
  {
   "cell_type": "code",
   "execution_count": 7,
   "metadata": {
    "colab": {
     "base_uri": "https://localhost:8080/",
     "height": 306
    },
    "id": "ITG_C2Fz_IpU",
    "outputId": "1b11e91b-8ef4-46ea-c313-0a66c0de6011"
   },
   "outputs": [
    {
     "name": "stderr",
     "output_type": "stream",
     "text": [
      "[nltk_data] Downloading package punkt to\n",
      "[nltk_data]     C:\\Users\\Abel\\AppData\\Roaming\\nltk_data...\n",
      "[nltk_data]   Package punkt is already up-to-date!\n",
      "[nltk_data] Downloading package stopwords to\n",
      "[nltk_data]     C:\\Users\\Abel\\AppData\\Roaming\\nltk_data...\n",
      "[nltk_data]   Package stopwords is already up-to-date!\n",
      "[nltk_data] Downloading package wordnet to\n",
      "[nltk_data]     C:\\Users\\Abel\\AppData\\Roaming\\nltk_data...\n",
      "[nltk_data]   Package wordnet is already up-to-date!\n"
     ]
    },
    {
     "data": {
      "text/html": [
       "<div>\n",
       "<style scoped>\n",
       "    .dataframe tbody tr th:only-of-type {\n",
       "        vertical-align: middle;\n",
       "    }\n",
       "\n",
       "    .dataframe tbody tr th {\n",
       "        vertical-align: top;\n",
       "    }\n",
       "\n",
       "    .dataframe thead th {\n",
       "        text-align: right;\n",
       "    }\n",
       "</style>\n",
       "<table border=\"1\" class=\"dataframe\">\n",
       "  <thead>\n",
       "    <tr style=\"text-align: right;\">\n",
       "      <th></th>\n",
       "      <th>customer</th>\n",
       "      <th>review</th>\n",
       "      <th>normalised_reviews</th>\n",
       "    </tr>\n",
       "  </thead>\n",
       "  <tbody>\n",
       "    <tr>\n",
       "      <th>0</th>\n",
       "      <td>Diksha Suman (@beingsheblog)</td>\n",
       "      <td>Title: THINK AND GROW RICHAuthor: NAPOLEON H...</td>\n",
       "      <td>title think grow richauthor napoleon hillpubli...</td>\n",
       "    </tr>\n",
       "    <tr>\n",
       "      <th>1</th>\n",
       "      <td>Naveen Sharma</td>\n",
       "      <td>It took quarter of a century to accumulate i...</td>\n",
       "      <td>took quarter century accumulate information wr...</td>\n",
       "    </tr>\n",
       "    <tr>\n",
       "      <th>2</th>\n",
       "      <td>SAINATH REDDY</td>\n",
       "      <td>When you face criticism in your life try to ...</td>\n",
       "      <td>face criticism life try turn page book find wa...</td>\n",
       "    </tr>\n",
       "    <tr>\n",
       "      <th>3</th>\n",
       "      <td>Debojit</td>\n",
       "      <td>I was looking through some of the reviews an...</td>\n",
       "      <td>looking review see people gave five star gave ...</td>\n",
       "    </tr>\n",
       "    <tr>\n",
       "      <th>4</th>\n",
       "      <td>BhaveshB.O.T™</td>\n",
       "      <td>This book can also be called as Think and Gr...</td>\n",
       "      <td>book also called think grow skill think grow k...</td>\n",
       "    </tr>\n",
       "  </tbody>\n",
       "</table>\n",
       "</div>"
      ],
      "text/plain": [
       "                       customer  \\\n",
       "0  Diksha Suman (@beingsheblog)   \n",
       "1                 Naveen Sharma   \n",
       "2                 SAINATH REDDY   \n",
       "3                       Debojit   \n",
       "4                 BhaveshB.O.T™   \n",
       "\n",
       "                                              review  \\\n",
       "0    Title: THINK AND GROW RICHAuthor: NAPOLEON H...   \n",
       "1    It took quarter of a century to accumulate i...   \n",
       "2    When you face criticism in your life try to ...   \n",
       "3    I was looking through some of the reviews an...   \n",
       "4    This book can also be called as Think and Gr...   \n",
       "\n",
       "                                  normalised_reviews  \n",
       "0  title think grow richauthor napoleon hillpubli...  \n",
       "1  took quarter century accumulate information wr...  \n",
       "2  face criticism life try turn page book find wa...  \n",
       "3  looking review see people gave five star gave ...  \n",
       "4  book also called think grow skill think grow k...  "
      ]
     },
     "execution_count": 7,
     "metadata": {},
     "output_type": "execute_result"
    }
   ],
   "source": [
    "import re\n",
    "from wordcloud import WordCloud,STOPWORDS\n",
    "from sklearn.feature_extraction.text import CountVectorizer\n",
    "import nltk\n",
    "# for tokenization\n",
    "nltk.download('punkt')\n",
    "# for stopwords\n",
    "nltk.download('stopwords')\n",
    "# for lemmatisation\n",
    "nltk.download('wordnet')\n",
    "from nltk.corpus import stopwords\n",
    "stop = stopwords.words('english')\n",
    "review_list=[]\n",
    "for review in df['review']:\n",
    "    no_punct_review=re.sub(\"[^a-zA-Z]\", \" \", review)\n",
    "    norm_review=no_punct_review.lower()\n",
    "    tokenized_review=nltk.word_tokenize(norm_review)\n",
    "    review_tokens=[word for word in tokenized_review if not word in set(stopwords.words(\"english\"))]\n",
    "    lemma=nltk.WordNetLemmatizer()\n",
    "    lemmatised_reviews=[lemma.lemmatize(word) for word in review_tokens]\n",
    "    lemmatised_string=\" \".join(lemmatised_reviews)\n",
    "    review_list.append(lemmatised_string)\n",
    "df[\"normalised_reviews\"]=review_list\n",
    "df.head(5)"
   ]
  },
  {
   "cell_type": "code",
   "execution_count": 8,
   "metadata": {
    "colab": {
     "base_uri": "https://localhost:8080/"
    },
    "id": "usYGy5rqGIef",
    "outputId": "d4b45e58-1fcb-435c-a752-bb403c87dfb6"
   },
   "outputs": [
    {
     "data": {
      "text/plain": [
       "{'abandon': -2,\n",
       " 'abandoned': -2,\n",
       " 'abandons': -2,\n",
       " 'abducted': -2,\n",
       " 'abduction': -2,\n",
       " 'abductions': -2,\n",
       " 'abhor': -3,\n",
       " 'abhorred': -3,\n",
       " 'abhorrent': -3,\n",
       " 'abhors': -3,\n",
       " 'abilities': 2,\n",
       " 'ability': 2,\n",
       " 'aboard': 1,\n",
       " 'absentee': -1,\n",
       " 'absentees': -1,\n",
       " 'absolve': 2,\n",
       " 'absolved': 2,\n",
       " 'absolves': 2,\n",
       " 'absolving': 2,\n",
       " 'absorbed': 1,\n",
       " 'abuse': -3,\n",
       " 'abused': -3,\n",
       " 'abuses': -3,\n",
       " 'abusive': -3,\n",
       " 'accept': 1,\n",
       " 'accepted': 1,\n",
       " 'accepting': 1,\n",
       " 'accepts': 1,\n",
       " 'accident': -2,\n",
       " 'accidental': -2,\n",
       " 'accidentally': -2,\n",
       " 'accidents': -2,\n",
       " 'accomplish': 2,\n",
       " 'accomplished': 2,\n",
       " 'accomplishes': 2,\n",
       " 'accusation': -2,\n",
       " 'accusations': -2,\n",
       " 'accuse': -2,\n",
       " 'accused': -2,\n",
       " 'accuses': -2,\n",
       " 'accusing': -2,\n",
       " 'ache': -2,\n",
       " 'achievable': 1,\n",
       " 'aching': -2,\n",
       " 'acquit': 2,\n",
       " 'acquits': 2,\n",
       " 'acquitted': 2,\n",
       " 'acquitting': 2,\n",
       " 'acrimonious': -3,\n",
       " 'active': 1,\n",
       " 'adequate': 1,\n",
       " 'admire': 3,\n",
       " 'admired': 3,\n",
       " 'admires': 3,\n",
       " 'admiring': 3,\n",
       " 'admit': -1,\n",
       " 'admits': -1,\n",
       " 'admitted': -1,\n",
       " 'admonish': -2,\n",
       " 'admonished': -2,\n",
       " 'adopt': 1,\n",
       " 'adopts': 1,\n",
       " 'adorable': 3,\n",
       " 'adore': 3,\n",
       " 'adored': 3,\n",
       " 'adores': 3,\n",
       " 'advanced': 1,\n",
       " 'advantage': 2,\n",
       " 'advantages': 2,\n",
       " 'adventure': 2,\n",
       " 'adventures': 2,\n",
       " 'adventurous': 2,\n",
       " 'affected': -1,\n",
       " 'affection': 3,\n",
       " 'affectionate': 3,\n",
       " 'afflicted': -1,\n",
       " 'affronted': -1,\n",
       " 'afraid': -2,\n",
       " 'aggravate': -2,\n",
       " 'aggravated': -2,\n",
       " 'aggravates': -2,\n",
       " 'aggravating': -2,\n",
       " 'aggression': -2,\n",
       " 'aggressions': -2,\n",
       " 'aggressive': -2,\n",
       " 'aghast': -2,\n",
       " 'agog': 2,\n",
       " 'agonise': -3,\n",
       " 'agonised': -3,\n",
       " 'agonises': -3,\n",
       " 'agonising': -3,\n",
       " 'agonize': -3,\n",
       " 'agonized': -3,\n",
       " 'agonizes': -3,\n",
       " 'agonizing': -3,\n",
       " 'agree': 1,\n",
       " 'agreeable': 2,\n",
       " 'agreed': 1,\n",
       " 'agreement': 1,\n",
       " 'agrees': 1,\n",
       " 'alarm': -2,\n",
       " 'alarmed': -2,\n",
       " 'alarmist': -2,\n",
       " 'alarmists': -2,\n",
       " 'alas': -1,\n",
       " 'alert': -1,\n",
       " 'alienation': -2,\n",
       " 'alive': 1,\n",
       " 'allergic': -2,\n",
       " 'allow': 1,\n",
       " 'alone': -2,\n",
       " 'amaze': 2,\n",
       " 'amazed': 2,\n",
       " 'amazes': 2,\n",
       " 'amazing': 4,\n",
       " 'ambitious': 2,\n",
       " 'ambivalent': -1,\n",
       " 'amuse': 3,\n",
       " 'amused': 3,\n",
       " 'amusement': 3,\n",
       " 'amusements': 3,\n",
       " 'anger': -3,\n",
       " 'angers': -3,\n",
       " 'angry': -3,\n",
       " 'anguish': -3,\n",
       " 'anguished': -3,\n",
       " 'animosity': -2,\n",
       " 'annoy': -2,\n",
       " 'annoyance': -2,\n",
       " 'annoyed': -2,\n",
       " 'annoying': -2,\n",
       " 'annoys': -2,\n",
       " 'antagonistic': -2,\n",
       " 'anti': -1,\n",
       " 'anticipation': 1,\n",
       " 'anxiety': -2,\n",
       " 'anxious': -2,\n",
       " 'apathetic': -3,\n",
       " 'apathy': -3,\n",
       " 'apeshit': -3,\n",
       " 'apocalyptic': -2,\n",
       " 'apologise': -1,\n",
       " 'apologised': -1,\n",
       " 'apologises': -1,\n",
       " 'apologising': -1,\n",
       " 'apologize': -1,\n",
       " 'apologized': -1,\n",
       " 'apologizes': -1,\n",
       " 'apologizing': -1,\n",
       " 'apology': -1,\n",
       " 'appalled': -2,\n",
       " 'appalling': -2,\n",
       " 'appease': 2,\n",
       " 'appeased': 2,\n",
       " 'appeases': 2,\n",
       " 'appeasing': 2,\n",
       " 'applaud': 2,\n",
       " 'applauded': 2,\n",
       " 'applauding': 2,\n",
       " 'applauds': 2,\n",
       " 'applause': 2,\n",
       " 'appreciate': 2,\n",
       " 'appreciated': 2,\n",
       " 'appreciates': 2,\n",
       " 'appreciating': 2,\n",
       " 'appreciation': 2,\n",
       " 'apprehensive': -2,\n",
       " 'approval': 2,\n",
       " 'approved': 2,\n",
       " 'approves': 2,\n",
       " 'ardent': 1,\n",
       " 'arrest': -2,\n",
       " 'arrested': -3,\n",
       " 'arrests': -2,\n",
       " 'arrogant': -2,\n",
       " 'ashame': -2,\n",
       " 'ashamed': -2,\n",
       " 'ass': -4,\n",
       " 'assassination': -3,\n",
       " 'assassinations': -3,\n",
       " 'asset': 2,\n",
       " 'assets': 2,\n",
       " 'assfucking': -4,\n",
       " 'asshole': -4,\n",
       " 'astonished': 2,\n",
       " 'astound': 3,\n",
       " 'astounded': 3,\n",
       " 'astounding': 3,\n",
       " 'astoundingly': 3,\n",
       " 'astounds': 3,\n",
       " 'attack': -1,\n",
       " 'attacked': -1,\n",
       " 'attacking': -1,\n",
       " 'attacks': -1,\n",
       " 'attract': 1,\n",
       " 'attracted': 1,\n",
       " 'attracting': 2,\n",
       " 'attraction': 2,\n",
       " 'attractions': 2,\n",
       " 'attracts': 1,\n",
       " 'audacious': 3,\n",
       " 'authority': 1,\n",
       " 'avert': -1,\n",
       " 'averted': -1,\n",
       " 'averts': -1,\n",
       " 'avid': 2,\n",
       " 'avoid': -1,\n",
       " 'avoided': -1,\n",
       " 'avoids': -1,\n",
       " 'await': -1,\n",
       " 'awaited': -1,\n",
       " 'awaits': -1,\n",
       " 'award': 3,\n",
       " 'awarded': 3,\n",
       " 'awards': 3,\n",
       " 'awesome': 4,\n",
       " 'awful': -3,\n",
       " 'awkward': -2,\n",
       " 'axe': -1,\n",
       " 'axed': -1,\n",
       " 'backed': 1,\n",
       " 'backing': 2,\n",
       " 'backs': 1,\n",
       " 'bad': -3,\n",
       " 'badass': -3,\n",
       " 'badly': -3,\n",
       " 'bailout': -2,\n",
       " 'bamboozle': -2,\n",
       " 'bamboozled': -2,\n",
       " 'bamboozles': -2,\n",
       " 'ban': -2,\n",
       " 'banish': -1,\n",
       " 'bankrupt': -3,\n",
       " 'bankster': -3,\n",
       " 'banned': -2,\n",
       " 'bargain': 2,\n",
       " 'barrier': -2,\n",
       " 'bastard': -5,\n",
       " 'bastards': -5,\n",
       " 'battle': -1,\n",
       " 'battles': -1,\n",
       " 'beaten': -2,\n",
       " 'beatific': 3,\n",
       " 'beating': -1,\n",
       " 'beauties': 3,\n",
       " 'beautiful': 3,\n",
       " 'beautifully': 3,\n",
       " 'beautify': 3,\n",
       " 'belittle': -2,\n",
       " 'belittled': -2,\n",
       " 'beloved': 3,\n",
       " 'benefit': 2,\n",
       " 'benefits': 2,\n",
       " 'benefitted': 2,\n",
       " 'benefitting': 2,\n",
       " 'bereave': -2,\n",
       " 'bereaved': -2,\n",
       " 'bereaves': -2,\n",
       " 'bereaving': -2,\n",
       " 'best': 3,\n",
       " 'betray': -3,\n",
       " 'betrayal': -3,\n",
       " 'betrayed': -3,\n",
       " 'betraying': -3,\n",
       " 'betrays': -3,\n",
       " 'better': 2,\n",
       " 'bias': -1,\n",
       " 'biased': -2,\n",
       " 'big': 1,\n",
       " 'bitch': -5,\n",
       " 'bitches': -5,\n",
       " 'bitter': -2,\n",
       " 'bitterly': -2,\n",
       " 'bizarre': -2,\n",
       " 'blah': -2,\n",
       " 'blame': -2,\n",
       " 'blamed': -2,\n",
       " 'blames': -2,\n",
       " 'blaming': -2,\n",
       " 'bless': 2,\n",
       " 'blesses': 2,\n",
       " 'blessing': 3,\n",
       " 'blind': -1,\n",
       " 'bliss': 3,\n",
       " 'blissful': 3,\n",
       " 'blithe': 2,\n",
       " 'block': -1,\n",
       " 'blockbuster': 3,\n",
       " 'blocked': -1,\n",
       " 'blocking': -1,\n",
       " 'blocks': -1,\n",
       " 'bloody': -3,\n",
       " 'blurry': -2,\n",
       " 'boastful': -2,\n",
       " 'bold': 2,\n",
       " 'boldly': 2,\n",
       " 'bomb': -1,\n",
       " 'boost': 1,\n",
       " 'boosted': 1,\n",
       " 'boosting': 1,\n",
       " 'boosts': 1,\n",
       " 'bore': -2,\n",
       " 'bored': -2,\n",
       " 'boring': -3,\n",
       " 'bother': -2,\n",
       " 'bothered': -2,\n",
       " 'bothers': -2,\n",
       " 'bothersome': -2,\n",
       " 'boycott': -2,\n",
       " 'boycotted': -2,\n",
       " 'boycotting': -2,\n",
       " 'boycotts': -2,\n",
       " 'brainwashing': -3,\n",
       " 'brave': 2,\n",
       " 'breakthrough': 3,\n",
       " 'breathtaking': 5,\n",
       " 'bribe': -3,\n",
       " 'bright': 1,\n",
       " 'brightest': 2,\n",
       " 'brightness': 1,\n",
       " 'brilliant': 4,\n",
       " 'brisk': 2,\n",
       " 'broke': -1,\n",
       " 'broken': -1,\n",
       " 'brooding': -2,\n",
       " 'bullied': -2,\n",
       " 'bullshit': -4,\n",
       " 'bully': -2,\n",
       " 'bullying': -2,\n",
       " 'bummer': -2,\n",
       " 'buoyant': 2,\n",
       " 'burden': -2,\n",
       " 'burdened': -2,\n",
       " 'burdening': -2,\n",
       " 'burdens': -2,\n",
       " 'calm': 2,\n",
       " 'calmed': 2,\n",
       " 'calming': 2,\n",
       " 'calms': 2,\n",
       " \"can't stand\": -3,\n",
       " 'cancel': -1,\n",
       " 'cancelled': -1,\n",
       " 'cancelling': -1,\n",
       " 'cancels': -1,\n",
       " 'cancer': -1,\n",
       " 'capable': 1,\n",
       " 'captivated': 3,\n",
       " 'care': 2,\n",
       " 'carefree': 1,\n",
       " 'careful': 2,\n",
       " 'carefully': 2,\n",
       " 'careless': -2,\n",
       " 'cares': 2,\n",
       " 'cashing in': -2,\n",
       " 'casualty': -2,\n",
       " 'catastrophe': -3,\n",
       " 'catastrophic': -4,\n",
       " 'cautious': -1,\n",
       " 'celebrate': 3,\n",
       " 'celebrated': 3,\n",
       " 'celebrates': 3,\n",
       " 'celebrating': 3,\n",
       " 'censor': -2,\n",
       " 'censored': -2,\n",
       " 'censors': -2,\n",
       " 'certain': 1,\n",
       " 'chagrin': -2,\n",
       " 'chagrined': -2,\n",
       " 'challenge': -1,\n",
       " 'chance': 2,\n",
       " 'chances': 2,\n",
       " 'chaos': -2,\n",
       " 'chaotic': -2,\n",
       " 'charged': -3,\n",
       " 'charges': -2,\n",
       " 'charm': 3,\n",
       " 'charming': 3,\n",
       " 'charmless': -3,\n",
       " 'chastise': -3,\n",
       " 'chastised': -3,\n",
       " 'chastises': -3,\n",
       " 'chastising': -3,\n",
       " 'cheat': -3,\n",
       " 'cheated': -3,\n",
       " 'cheater': -3,\n",
       " 'cheaters': -3,\n",
       " 'cheats': -3,\n",
       " 'cheer': 2,\n",
       " 'cheered': 2,\n",
       " 'cheerful': 2,\n",
       " 'cheering': 2,\n",
       " 'cheerless': -2,\n",
       " 'cheers': 2,\n",
       " 'cheery': 3,\n",
       " 'cherish': 2,\n",
       " 'cherished': 2,\n",
       " 'cherishes': 2,\n",
       " 'cherishing': 2,\n",
       " 'chic': 2,\n",
       " 'childish': -2,\n",
       " 'chilling': -1,\n",
       " 'choke': -2,\n",
       " 'choked': -2,\n",
       " 'chokes': -2,\n",
       " 'choking': -2,\n",
       " 'clarifies': 2,\n",
       " 'clarity': 2,\n",
       " 'clash': -2,\n",
       " 'classy': 3,\n",
       " 'clean': 2,\n",
       " 'cleaner': 2,\n",
       " 'clear': 1,\n",
       " 'cleared': 1,\n",
       " 'clearly': 1,\n",
       " 'clears': 1,\n",
       " 'clever': 2,\n",
       " 'clouded': -1,\n",
       " 'clueless': -2,\n",
       " 'cock': -5,\n",
       " 'cocksucker': -5,\n",
       " 'cocksuckers': -5,\n",
       " 'cocky': -2,\n",
       " 'coerced': -2,\n",
       " 'collapse': -2,\n",
       " 'collapsed': -2,\n",
       " 'collapses': -2,\n",
       " 'collapsing': -2,\n",
       " 'collide': -1,\n",
       " 'collides': -1,\n",
       " 'colliding': -1,\n",
       " 'collision': -2,\n",
       " 'collisions': -2,\n",
       " 'colluding': -3,\n",
       " 'combat': -1,\n",
       " 'combats': -1,\n",
       " 'comedy': 1,\n",
       " 'comfort': 2,\n",
       " 'comfortable': 2,\n",
       " 'comforting': 2,\n",
       " 'comforts': 2,\n",
       " 'commend': 2,\n",
       " 'commended': 2,\n",
       " 'commit': 1,\n",
       " 'commitment': 2,\n",
       " 'commits': 1,\n",
       " 'committed': 1,\n",
       " 'committing': 1,\n",
       " 'compassionate': 2,\n",
       " 'compelled': 1,\n",
       " 'competent': 2,\n",
       " 'competitive': 2,\n",
       " 'complacent': -2,\n",
       " 'complain': -2,\n",
       " 'complained': -2,\n",
       " 'complains': -2,\n",
       " 'comprehensive': 2,\n",
       " 'conciliate': 2,\n",
       " 'conciliated': 2,\n",
       " 'conciliates': 2,\n",
       " 'conciliating': 2,\n",
       " 'condemn': -2,\n",
       " 'condemnation': -2,\n",
       " 'condemned': -2,\n",
       " 'condemns': -2,\n",
       " 'confidence': 2,\n",
       " 'confident': 2,\n",
       " 'conflict': -2,\n",
       " 'conflicting': -2,\n",
       " 'conflictive': -2,\n",
       " 'conflicts': -2,\n",
       " 'confuse': -2,\n",
       " 'confused': -2,\n",
       " 'confusing': -2,\n",
       " 'congrats': 2,\n",
       " 'congratulate': 2,\n",
       " 'congratulation': 2,\n",
       " 'congratulations': 2,\n",
       " 'consent': 2,\n",
       " 'consents': 2,\n",
       " 'consolable': 2,\n",
       " 'conspiracy': -3,\n",
       " 'constrained': -2,\n",
       " 'contagion': -2,\n",
       " 'contagions': -2,\n",
       " 'contagious': -1,\n",
       " 'contempt': -2,\n",
       " 'contemptuous': -2,\n",
       " 'contemptuously': -2,\n",
       " 'contend': -1,\n",
       " 'contender': -1,\n",
       " 'contending': -1,\n",
       " 'contentious': -2,\n",
       " 'contestable': -2,\n",
       " 'controversial': -2,\n",
       " 'controversially': -2,\n",
       " 'convince': 1,\n",
       " 'convinced': 1,\n",
       " 'convinces': 1,\n",
       " 'convivial': 2,\n",
       " 'cool': 1,\n",
       " 'cool stuff': 3,\n",
       " 'cornered': -2,\n",
       " 'corpse': -1,\n",
       " 'costly': -2,\n",
       " 'courage': 2,\n",
       " 'courageous': 2,\n",
       " 'courteous': 2,\n",
       " 'courtesy': 2,\n",
       " 'cover-up': -3,\n",
       " 'coward': -2,\n",
       " 'cowardly': -2,\n",
       " 'coziness': 2,\n",
       " 'cramp': -1,\n",
       " 'crap': -3,\n",
       " 'crash': -2,\n",
       " 'crazier': -2,\n",
       " 'craziest': -2,\n",
       " 'crazy': -2,\n",
       " 'creative': 2,\n",
       " 'crestfallen': -2,\n",
       " 'cried': -2,\n",
       " 'cries': -2,\n",
       " 'crime': -3,\n",
       " 'criminal': -3,\n",
       " 'criminals': -3,\n",
       " 'crisis': -3,\n",
       " 'critic': -2,\n",
       " 'criticism': -2,\n",
       " 'criticize': -2,\n",
       " 'criticized': -2,\n",
       " 'criticizes': -2,\n",
       " 'criticizing': -2,\n",
       " 'critics': -2,\n",
       " 'cruel': -3,\n",
       " 'cruelty': -3,\n",
       " 'crush': -1,\n",
       " 'crushed': -2,\n",
       " 'crushes': -1,\n",
       " 'crushing': -1,\n",
       " 'cry': -1,\n",
       " 'crying': -2,\n",
       " 'cunt': -5,\n",
       " 'curious': 1,\n",
       " 'curse': -1,\n",
       " 'cut': -1,\n",
       " 'cute': 2,\n",
       " 'cuts': -1,\n",
       " 'cutting': -1,\n",
       " 'cynic': -2,\n",
       " 'cynical': -2,\n",
       " 'cynicism': -2,\n",
       " 'damage': -3,\n",
       " 'damages': -3,\n",
       " 'damn': -4,\n",
       " 'damned': -4,\n",
       " 'damnit': -4,\n",
       " 'danger': -2,\n",
       " 'daredevil': 2,\n",
       " 'daring': 2,\n",
       " 'darkest': -2,\n",
       " 'darkness': -1,\n",
       " 'dauntless': 2,\n",
       " 'dead': -3,\n",
       " 'deadlock': -2,\n",
       " 'deafening': -1,\n",
       " 'dear': 2,\n",
       " 'dearly': 3,\n",
       " 'death': -2,\n",
       " 'debonair': 2,\n",
       " 'debt': -2,\n",
       " 'deceit': -3,\n",
       " 'deceitful': -3,\n",
       " 'deceive': -3,\n",
       " 'deceived': -3,\n",
       " 'deceives': -3,\n",
       " 'deceiving': -3,\n",
       " 'deception': -3,\n",
       " 'decisive': 1,\n",
       " 'dedicated': 2,\n",
       " 'defeated': -2,\n",
       " 'defect': -3,\n",
       " 'defects': -3,\n",
       " 'defender': 2,\n",
       " 'defenders': 2,\n",
       " 'defenseless': -2,\n",
       " 'defer': -1,\n",
       " 'deferring': -1,\n",
       " 'defiant': -1,\n",
       " 'deficit': -2,\n",
       " 'degrade': -2,\n",
       " 'degraded': -2,\n",
       " 'degrades': -2,\n",
       " 'dehumanize': -2,\n",
       " 'dehumanized': -2,\n",
       " 'dehumanizes': -2,\n",
       " 'dehumanizing': -2,\n",
       " 'deject': -2,\n",
       " 'dejected': -2,\n",
       " 'dejecting': -2,\n",
       " 'dejects': -2,\n",
       " 'delay': -1,\n",
       " 'delayed': -1,\n",
       " 'delight': 3,\n",
       " 'delighted': 3,\n",
       " 'delighting': 3,\n",
       " 'delights': 3,\n",
       " 'demand': -1,\n",
       " 'demanded': -1,\n",
       " 'demanding': -1,\n",
       " 'demands': -1,\n",
       " 'demonstration': -1,\n",
       " 'demoralized': -2,\n",
       " 'denied': -2,\n",
       " 'denier': -2,\n",
       " 'deniers': -2,\n",
       " 'denies': -2,\n",
       " 'denounce': -2,\n",
       " 'denounces': -2,\n",
       " 'deny': -2,\n",
       " 'denying': -2,\n",
       " 'depressed': -2,\n",
       " 'depressing': -2,\n",
       " 'derail': -2,\n",
       " 'derailed': -2,\n",
       " 'derails': -2,\n",
       " 'deride': -2,\n",
       " 'derided': -2,\n",
       " 'derides': -2,\n",
       " 'deriding': -2,\n",
       " 'derision': -2,\n",
       " 'desirable': 2,\n",
       " 'desire': 1,\n",
       " 'desired': 2,\n",
       " 'desirous': 2,\n",
       " 'despair': -3,\n",
       " 'despairing': -3,\n",
       " 'despairs': -3,\n",
       " 'desperate': -3,\n",
       " 'desperately': -3,\n",
       " 'despondent': -3,\n",
       " 'destroy': -3,\n",
       " 'destroyed': -3,\n",
       " 'destroying': -3,\n",
       " 'destroys': -3,\n",
       " 'destruction': -3,\n",
       " 'destructive': -3,\n",
       " 'detached': -1,\n",
       " 'detain': -2,\n",
       " 'detained': -2,\n",
       " 'detention': -2,\n",
       " 'determined': 2,\n",
       " 'devastate': -2,\n",
       " 'devastated': -2,\n",
       " 'devastating': -2,\n",
       " 'devoted': 3,\n",
       " 'diamond': 1,\n",
       " 'dick': -4,\n",
       " 'dickhead': -4,\n",
       " 'die': -3,\n",
       " 'died': -3,\n",
       " 'difficult': -1,\n",
       " 'diffident': -2,\n",
       " 'dilemma': -1,\n",
       " 'dipshit': -3,\n",
       " 'dire': -3,\n",
       " 'direful': -3,\n",
       " 'dirt': -2,\n",
       " 'dirtier': -2,\n",
       " 'dirtiest': -2,\n",
       " 'dirty': -2,\n",
       " 'disabling': -1,\n",
       " 'disadvantage': -2,\n",
       " 'disadvantaged': -2,\n",
       " 'disappear': -1,\n",
       " 'disappeared': -1,\n",
       " 'disappears': -1,\n",
       " 'disappoint': -2,\n",
       " 'disappointed': -2,\n",
       " 'disappointing': -2,\n",
       " 'disappointment': -2,\n",
       " 'disappointments': -2,\n",
       " 'disappoints': -2,\n",
       " 'disaster': -2,\n",
       " 'disasters': -2,\n",
       " 'disastrous': -3,\n",
       " 'disbelieve': -2,\n",
       " 'discard': -1,\n",
       " 'discarded': -1,\n",
       " 'discarding': -1,\n",
       " 'discards': -1,\n",
       " 'disconsolate': -2,\n",
       " 'disconsolation': -2,\n",
       " 'discontented': -2,\n",
       " 'discord': -2,\n",
       " 'discounted': -1,\n",
       " 'discouraged': -2,\n",
       " 'discredited': -2,\n",
       " 'disdain': -2,\n",
       " 'disgrace': -2,\n",
       " 'disgraced': -2,\n",
       " 'disguise': -1,\n",
       " 'disguised': -1,\n",
       " 'disguises': -1,\n",
       " 'disguising': -1,\n",
       " 'disgust': -3,\n",
       " 'disgusted': -3,\n",
       " 'disgusting': -3,\n",
       " 'disheartened': -2,\n",
       " 'dishonest': -2,\n",
       " 'disillusioned': -2,\n",
       " 'disinclined': -2,\n",
       " 'disjointed': -2,\n",
       " 'dislike': -2,\n",
       " 'dismal': -2,\n",
       " 'dismayed': -2,\n",
       " 'disorder': -2,\n",
       " 'disorganized': -2,\n",
       " 'disoriented': -2,\n",
       " 'disparage': -2,\n",
       " 'disparaged': -2,\n",
       " 'disparages': -2,\n",
       " 'disparaging': -2,\n",
       " 'displeased': -2,\n",
       " 'dispute': -2,\n",
       " 'disputed': -2,\n",
       " 'disputes': -2,\n",
       " 'disputing': -2,\n",
       " 'disqualified': -2,\n",
       " 'disquiet': -2,\n",
       " 'disregard': -2,\n",
       " 'disregarded': -2,\n",
       " 'disregarding': -2,\n",
       " 'disregards': -2,\n",
       " 'disrespect': -2,\n",
       " 'disrespected': -2,\n",
       " 'disruption': -2,\n",
       " 'disruptions': -2,\n",
       " 'disruptive': -2,\n",
       " 'dissatisfied': -2,\n",
       " 'distort': -2,\n",
       " 'distorted': -2,\n",
       " 'distorting': -2,\n",
       " 'distorts': -2,\n",
       " 'distract': -2,\n",
       " 'distracted': -2,\n",
       " 'distraction': -2,\n",
       " 'distracts': -2,\n",
       " 'distress': -2,\n",
       " 'distressed': -2,\n",
       " 'distresses': -2,\n",
       " 'distressing': -2,\n",
       " 'distrust': -3,\n",
       " 'distrustful': -3,\n",
       " 'disturb': -2,\n",
       " 'disturbed': -2,\n",
       " 'disturbing': -2,\n",
       " 'disturbs': -2,\n",
       " 'dithering': -2,\n",
       " 'dizzy': -1,\n",
       " 'dodging': -2,\n",
       " 'dodgy': -2,\n",
       " 'does not work': -3,\n",
       " 'dolorous': -2,\n",
       " 'dont like': -2,\n",
       " 'doom': -2,\n",
       " 'doomed': -2,\n",
       " 'doubt': -1,\n",
       " 'doubted': -1,\n",
       " 'doubtful': -1,\n",
       " 'doubting': -1,\n",
       " 'doubts': -1,\n",
       " 'douche': -3,\n",
       " 'douchebag': -3,\n",
       " 'downcast': -2,\n",
       " 'downhearted': -2,\n",
       " 'downside': -2,\n",
       " 'drag': -1,\n",
       " 'dragged': -1,\n",
       " 'drags': -1,\n",
       " 'drained': -2,\n",
       " 'dread': -2,\n",
       " 'dreaded': -2,\n",
       " 'dreadful': -3,\n",
       " 'dreading': -2,\n",
       " 'dream': 1,\n",
       " 'dreams': 1,\n",
       " 'dreary': -2,\n",
       " 'droopy': -2,\n",
       " 'drop': -1,\n",
       " 'drown': -2,\n",
       " 'drowned': -2,\n",
       " 'drowns': -2,\n",
       " 'drunk': -2,\n",
       " 'dubious': -2,\n",
       " 'dud': -2,\n",
       " 'dull': -2,\n",
       " 'dumb': -3,\n",
       " 'dumbass': -3,\n",
       " 'dump': -1,\n",
       " 'dumped': -2,\n",
       " 'dumps': -1,\n",
       " 'dupe': -2,\n",
       " 'duped': -2,\n",
       " 'dysfunction': -2,\n",
       " 'eager': 2,\n",
       " 'earnest': 2,\n",
       " 'ease': 2,\n",
       " 'easy': 1,\n",
       " 'ecstatic': 4,\n",
       " 'eerie': -2,\n",
       " 'eery': -2,\n",
       " 'effective': 2,\n",
       " 'effectively': 2,\n",
       " 'elated': 3,\n",
       " 'elation': 3,\n",
       " 'elegant': 2,\n",
       " 'elegantly': 2,\n",
       " 'embarrass': -2,\n",
       " 'embarrassed': -2,\n",
       " 'embarrasses': -2,\n",
       " 'embarrassing': -2,\n",
       " 'embarrassment': -2,\n",
       " 'embittered': -2,\n",
       " 'embrace': 1,\n",
       " 'emergency': -2,\n",
       " 'empathetic': 2,\n",
       " 'emptiness': -1,\n",
       " 'empty': -1,\n",
       " 'enchanted': 2,\n",
       " 'encourage': 2,\n",
       " 'encouraged': 2,\n",
       " 'encouragement': 2,\n",
       " 'encourages': 2,\n",
       " 'endorse': 2,\n",
       " 'endorsed': 2,\n",
       " 'endorsement': 2,\n",
       " 'endorses': 2,\n",
       " 'enemies': -2,\n",
       " 'enemy': -2,\n",
       " 'energetic': 2,\n",
       " 'engage': 1,\n",
       " 'engages': 1,\n",
       " 'engrossed': 1,\n",
       " 'enjoy': 2,\n",
       " 'enjoying': 2,\n",
       " 'enjoys': 2,\n",
       " 'enlighten': 2,\n",
       " 'enlightened': 2,\n",
       " 'enlightening': 2,\n",
       " 'enlightens': 2,\n",
       " 'ennui': -2,\n",
       " 'enrage': -2,\n",
       " 'enraged': -2,\n",
       " 'enrages': -2,\n",
       " 'enraging': -2,\n",
       " 'enrapture': 3,\n",
       " 'enslave': -2,\n",
       " 'enslaved': -2,\n",
       " 'enslaves': -2,\n",
       " 'ensure': 1,\n",
       " 'ensuring': 1,\n",
       " 'enterprising': 1,\n",
       " 'entertaining': 2,\n",
       " 'enthral': 3,\n",
       " 'enthusiastic': 3,\n",
       " 'entitled': 1,\n",
       " 'entrusted': 2,\n",
       " 'envies': -1,\n",
       " 'envious': -2,\n",
       " 'envy': -1,\n",
       " 'envying': -1,\n",
       " 'erroneous': -2,\n",
       " 'error': -2,\n",
       " 'errors': -2,\n",
       " 'escape': -1,\n",
       " 'escapes': -1,\n",
       " 'escaping': -1,\n",
       " 'esteemed': 2,\n",
       " 'ethical': 2,\n",
       " 'euphoria': 3,\n",
       " 'euphoric': 4,\n",
       " 'eviction': -1,\n",
       " 'evil': -3,\n",
       " 'exaggerate': -2,\n",
       " 'exaggerated': -2,\n",
       " 'exaggerates': -2,\n",
       " 'exaggerating': -2,\n",
       " 'exasperated': 2,\n",
       " 'excellence': 3,\n",
       " 'excellent': 3,\n",
       " 'excite': 3,\n",
       " 'excited': 3,\n",
       " 'excitement': 3,\n",
       " 'exciting': 3,\n",
       " 'exclude': -1,\n",
       " 'excluded': -2,\n",
       " 'exclusion': -1,\n",
       " 'exclusive': 2,\n",
       " 'excuse': -1,\n",
       " 'exempt': -1,\n",
       " 'exhausted': -2,\n",
       " 'exhilarated': 3,\n",
       " 'exhilarates': 3,\n",
       " 'exhilarating': 3,\n",
       " 'exonerate': 2,\n",
       " 'exonerated': 2,\n",
       " 'exonerates': 2,\n",
       " 'exonerating': 2,\n",
       " 'expand': 1,\n",
       " 'expands': 1,\n",
       " 'expel': -2,\n",
       " 'expelled': -2,\n",
       " 'expelling': -2,\n",
       " 'expels': -2,\n",
       " 'exploit': -2,\n",
       " 'exploited': -2,\n",
       " 'exploiting': -2,\n",
       " 'exploits': -2,\n",
       " 'exploration': 1,\n",
       " 'explorations': 1,\n",
       " 'expose': -1,\n",
       " 'exposed': -1,\n",
       " 'exposes': -1,\n",
       " 'exposing': -1,\n",
       " 'extend': 1,\n",
       " 'extends': 1,\n",
       " 'exuberant': 4,\n",
       " 'exultant': 3,\n",
       " 'exultantly': 3,\n",
       " 'fabulous': 4,\n",
       " 'fad': -2,\n",
       " 'fag': -3,\n",
       " 'faggot': -3,\n",
       " 'faggots': -3,\n",
       " 'fail': -2,\n",
       " 'failed': -2,\n",
       " 'failing': -2,\n",
       " 'fails': -2,\n",
       " 'failure': -2,\n",
       " 'failures': -2,\n",
       " 'fainthearted': -2,\n",
       " 'fair': 2,\n",
       " 'faith': 1,\n",
       " 'faithful': 3,\n",
       " 'fake': -3,\n",
       " 'fakes': -3,\n",
       " 'faking': -3,\n",
       " 'fallen': -2,\n",
       " 'falling': -1,\n",
       " 'falsified': -3,\n",
       " 'falsify': -3,\n",
       " 'fame': 1,\n",
       " 'fan': 3,\n",
       " 'fantastic': 4,\n",
       " 'farce': -1,\n",
       " 'fascinate': 3,\n",
       " 'fascinated': 3,\n",
       " 'fascinates': 3,\n",
       " 'fascinating': 3,\n",
       " 'fascist': -2,\n",
       " 'fascists': -2,\n",
       " 'fatalities': -3,\n",
       " 'fatality': -3,\n",
       " 'fatigue': -2,\n",
       " 'fatigued': -2,\n",
       " 'fatigues': -2,\n",
       " 'fatiguing': -2,\n",
       " 'favor': 2,\n",
       " 'favored': 2,\n",
       " 'favorite': 2,\n",
       " 'favorited': 2,\n",
       " 'favorites': 2,\n",
       " 'favors': 2,\n",
       " 'fear': -2,\n",
       " 'fearful': -2,\n",
       " 'fearing': -2,\n",
       " 'fearless': 2,\n",
       " 'fearsome': -2,\n",
       " 'fed up': -3,\n",
       " 'feeble': -2,\n",
       " 'feeling': 1,\n",
       " 'felonies': -3,\n",
       " 'felony': -3,\n",
       " 'fervent': 2,\n",
       " 'fervid': 2,\n",
       " 'festive': 2,\n",
       " 'fiasco': -3,\n",
       " 'fidgety': -2,\n",
       " 'fight': -1,\n",
       " 'fine': 2,\n",
       " 'fire': -2,\n",
       " 'fired': -2,\n",
       " 'firing': -2,\n",
       " 'fit': 1,\n",
       " 'fitness': 1,\n",
       " 'flagship': 2,\n",
       " 'flees': -1,\n",
       " 'flop': -2,\n",
       " 'flops': -2,\n",
       " 'flu': -2,\n",
       " ...}"
      ]
     },
     "execution_count": 8,
     "metadata": {},
     "output_type": "execute_result"
    }
   ],
   "source": [
    "affinity_scores = afinn.set_index('word')['value'].to_dict()\n",
    "affinity_scores"
   ]
  },
  {
   "cell_type": "code",
   "execution_count": 9,
   "metadata": {
    "id": "_eavnELpLjIR"
   },
   "outputs": [],
   "source": [
    "import spacy\n",
    "nlp = spacy.load('en_core_web_sm')\n",
    "\n",
    "def calculate_sentiment(text: str = None):\n",
    "    sentiment_score = 0\n",
    "    if text:\n",
    "        sentence = nlp(text)\n",
    "        for word in sentence:\n",
    "            sentiment_score += affinity_scores.get(word.lemma_, 0)\n",
    "    return sentiment_score"
   ]
  },
  {
   "cell_type": "code",
   "execution_count": 10,
   "metadata": {
    "colab": {
     "base_uri": "https://localhost:8080/",
     "height": 538
    },
    "id": "klstvX2nJtt7",
    "outputId": "a8d9bb2c-451c-4f07-d153-027b79af1e1a"
   },
   "outputs": [
    {
     "data": {
      "text/html": [
       "<div>\n",
       "<style scoped>\n",
       "    .dataframe tbody tr th:only-of-type {\n",
       "        vertical-align: middle;\n",
       "    }\n",
       "\n",
       "    .dataframe tbody tr th {\n",
       "        vertical-align: top;\n",
       "    }\n",
       "\n",
       "    .dataframe thead th {\n",
       "        text-align: right;\n",
       "    }\n",
       "</style>\n",
       "<table border=\"1\" class=\"dataframe\">\n",
       "  <thead>\n",
       "    <tr style=\"text-align: right;\">\n",
       "      <th></th>\n",
       "      <th>customer</th>\n",
       "      <th>review</th>\n",
       "      <th>normalised_reviews</th>\n",
       "      <th>sentiment_value</th>\n",
       "    </tr>\n",
       "  </thead>\n",
       "  <tbody>\n",
       "    <tr>\n",
       "      <th>0</th>\n",
       "      <td>Diksha Suman (@beingsheblog)</td>\n",
       "      <td>Title: THINK AND GROW RICHAuthor: NAPOLEON H...</td>\n",
       "      <td>title think grow richauthor napoleon hillpubli...</td>\n",
       "      <td>21</td>\n",
       "    </tr>\n",
       "    <tr>\n",
       "      <th>1</th>\n",
       "      <td>Naveen Sharma</td>\n",
       "      <td>It took quarter of a century to accumulate i...</td>\n",
       "      <td>took quarter century accumulate information wr...</td>\n",
       "      <td>21</td>\n",
       "    </tr>\n",
       "    <tr>\n",
       "      <th>2</th>\n",
       "      <td>SAINATH REDDY</td>\n",
       "      <td>When you face criticism in your life try to ...</td>\n",
       "      <td>face criticism life try turn page book find wa...</td>\n",
       "      <td>7</td>\n",
       "    </tr>\n",
       "    <tr>\n",
       "      <th>3</th>\n",
       "      <td>Debojit</td>\n",
       "      <td>I was looking through some of the reviews an...</td>\n",
       "      <td>looking review see people gave five star gave ...</td>\n",
       "      <td>14</td>\n",
       "    </tr>\n",
       "    <tr>\n",
       "      <th>4</th>\n",
       "      <td>BhaveshB.O.T™</td>\n",
       "      <td>This book can also be called as Think and Gr...</td>\n",
       "      <td>book also called think grow skill think grow k...</td>\n",
       "      <td>32</td>\n",
       "    </tr>\n",
       "    <tr>\n",
       "      <th>...</th>\n",
       "      <td>...</td>\n",
       "      <td>...</td>\n",
       "      <td>...</td>\n",
       "      <td>...</td>\n",
       "    </tr>\n",
       "    <tr>\n",
       "      <th>1995</th>\n",
       "      <td>Dipesh</td>\n",
       "      <td>Can't explain, everyone please read.</td>\n",
       "      <td>explain everyone please read</td>\n",
       "      <td>1</td>\n",
       "    </tr>\n",
       "    <tr>\n",
       "      <th>1996</th>\n",
       "      <td>AkshAr KalathiYa</td>\n",
       "      <td>Book is really nice and print is also good</td>\n",
       "      <td>book really nice print also good</td>\n",
       "      <td>6</td>\n",
       "    </tr>\n",
       "    <tr>\n",
       "      <th>1997</th>\n",
       "      <td>yamjalamallesh</td>\n",
       "      <td>I call it as granddaddy of all inspirational...</td>\n",
       "      <td>call granddaddy inspirational motivational lit...</td>\n",
       "      <td>6</td>\n",
       "    </tr>\n",
       "    <tr>\n",
       "      <th>1998</th>\n",
       "      <td>suprith m</td>\n",
       "      <td>Poor qualityPurchase from other publications</td>\n",
       "      <td>poor qualitypurchase publication</td>\n",
       "      <td>-2</td>\n",
       "    </tr>\n",
       "    <tr>\n",
       "      <th>1999</th>\n",
       "      <td>Shaifali</td>\n",
       "      <td>The most economic thing in this world that y...</td>\n",
       "      <td>economic thing world money buy may worth milio...</td>\n",
       "      <td>2</td>\n",
       "    </tr>\n",
       "  </tbody>\n",
       "</table>\n",
       "<p>1999 rows × 4 columns</p>\n",
       "</div>"
      ],
      "text/plain": [
       "                          customer  \\\n",
       "0     Diksha Suman (@beingsheblog)   \n",
       "1                    Naveen Sharma   \n",
       "2                    SAINATH REDDY   \n",
       "3                          Debojit   \n",
       "4                    BhaveshB.O.T™   \n",
       "...                            ...   \n",
       "1995                        Dipesh   \n",
       "1996              AkshAr KalathiYa   \n",
       "1997                yamjalamallesh   \n",
       "1998                     suprith m   \n",
       "1999                      Shaifali   \n",
       "\n",
       "                                                 review  \\\n",
       "0       Title: THINK AND GROW RICHAuthor: NAPOLEON H...   \n",
       "1       It took quarter of a century to accumulate i...   \n",
       "2       When you face criticism in your life try to ...   \n",
       "3       I was looking through some of the reviews an...   \n",
       "4       This book can also be called as Think and Gr...   \n",
       "...                                                 ...   \n",
       "1995               Can't explain, everyone please read.   \n",
       "1996         Book is really nice and print is also good   \n",
       "1997    I call it as granddaddy of all inspirational...   \n",
       "1998       Poor qualityPurchase from other publications   \n",
       "1999    The most economic thing in this world that y...   \n",
       "\n",
       "                                     normalised_reviews  sentiment_value  \n",
       "0     title think grow richauthor napoleon hillpubli...               21  \n",
       "1     took quarter century accumulate information wr...               21  \n",
       "2     face criticism life try turn page book find wa...                7  \n",
       "3     looking review see people gave five star gave ...               14  \n",
       "4     book also called think grow skill think grow k...               32  \n",
       "...                                                 ...              ...  \n",
       "1995                       explain everyone please read                1  \n",
       "1996                   book really nice print also good                6  \n",
       "1997  call granddaddy inspirational motivational lit...                6  \n",
       "1998                   poor qualitypurchase publication               -2  \n",
       "1999  economic thing world money buy may worth milio...                2  \n",
       "\n",
       "[1999 rows x 4 columns]"
      ]
     },
     "execution_count": 10,
     "metadata": {},
     "output_type": "execute_result"
    }
   ],
   "source": [
    "df['sentiment_value'] = df['normalised_reviews'].apply(calculate_sentiment)\n",
    "df"
   ]
  },
  {
   "cell_type": "code",
   "execution_count": 11,
   "metadata": {
    "colab": {
     "base_uri": "https://localhost:8080/",
     "height": 204
    },
    "id": "HdLn0ufRQUN0",
    "outputId": "fd3b0aab-58ad-4bcb-b483-e859284b75d2"
   },
   "outputs": [
    {
     "data": {
      "text/html": [
       "<div>\n",
       "<style scoped>\n",
       "    .dataframe tbody tr th:only-of-type {\n",
       "        vertical-align: middle;\n",
       "    }\n",
       "\n",
       "    .dataframe tbody tr th {\n",
       "        vertical-align: top;\n",
       "    }\n",
       "\n",
       "    .dataframe thead th {\n",
       "        text-align: right;\n",
       "    }\n",
       "</style>\n",
       "<table border=\"1\" class=\"dataframe\">\n",
       "  <thead>\n",
       "    <tr style=\"text-align: right;\">\n",
       "      <th></th>\n",
       "      <th>customer</th>\n",
       "      <th>review</th>\n",
       "      <th>normalised_reviews</th>\n",
       "      <th>sentiment_value</th>\n",
       "    </tr>\n",
       "  </thead>\n",
       "  <tbody>\n",
       "    <tr>\n",
       "      <th>228</th>\n",
       "      <td>Siddhant</td>\n",
       "      <td>The quality of this book is very nice as I e...</td>\n",
       "      <td>quality book nice expected one problem often f...</td>\n",
       "      <td>-7</td>\n",
       "    </tr>\n",
       "    <tr>\n",
       "      <th>77</th>\n",
       "      <td>HonestlyYours</td>\n",
       "      <td>The Book I received 2 months back is really ...</td>\n",
       "      <td>book received month back really pathetic copy ...</td>\n",
       "      <td>-7</td>\n",
       "    </tr>\n",
       "    <tr>\n",
       "      <th>986</th>\n",
       "      <td>Achuthanj</td>\n",
       "      <td>No problem in book knowledge. But i have pro...</td>\n",
       "      <td>problem book knowledge problem book print qual...</td>\n",
       "      <td>-7</td>\n",
       "    </tr>\n",
       "    <tr>\n",
       "      <th>57</th>\n",
       "      <td>Pihu</td>\n",
       "      <td>First review on amazon, had to write it as I...</td>\n",
       "      <td>first review amazon write bear overhyped book ...</td>\n",
       "      <td>-6</td>\n",
       "    </tr>\n",
       "    <tr>\n",
       "      <th>49</th>\n",
       "      <td>Poornima Khurana</td>\n",
       "      <td>success does not require justification and f...</td>\n",
       "      <td>success require justification failure spare al...</td>\n",
       "      <td>-6</td>\n",
       "    </tr>\n",
       "  </tbody>\n",
       "</table>\n",
       "</div>"
      ],
      "text/plain": [
       "             customer                                             review  \\\n",
       "228          Siddhant    The quality of this book is very nice as I e...   \n",
       "77      HonestlyYours    The Book I received 2 months back is really ...   \n",
       "986         Achuthanj    No problem in book knowledge. But i have pro...   \n",
       "57               Pihu    First review on amazon, had to write it as I...   \n",
       "49   Poornima Khurana    success does not require justification and f...   \n",
       "\n",
       "                                    normalised_reviews  sentiment_value  \n",
       "228  quality book nice expected one problem often f...               -7  \n",
       "77   book received month back really pathetic copy ...               -7  \n",
       "986  problem book knowledge problem book print qual...               -7  \n",
       "57   first review amazon write bear overhyped book ...               -6  \n",
       "49   success require justification failure spare al...               -6  "
      ]
     },
     "execution_count": 11,
     "metadata": {},
     "output_type": "execute_result"
    }
   ],
   "source": [
    "df.sort_values(by='sentiment_value').head()"
   ]
  },
  {
   "cell_type": "code",
   "execution_count": 12,
   "metadata": {
    "colab": {
     "base_uri": "https://localhost:8080/",
     "height": 351
    },
    "id": "kMBCrr3pR4ro",
    "outputId": "37f4674b-6f11-48ff-87a1-677f91304428"
   },
   "outputs": [
    {
     "name": "stderr",
     "output_type": "stream",
     "text": [
      "D:\\Installation\\Anaconda\\lib\\site-packages\\seaborn\\distributions.py:2557: FutureWarning: `distplot` is a deprecated function and will be removed in a future version. Please adapt your code to use either `displot` (a figure-level function with similar flexibility) or `histplot` (an axes-level function for histograms).\n",
      "  warnings.warn(msg, FutureWarning)\n"
     ]
    },
    {
     "data": {
      "text/plain": [
       "<AxesSubplot:xlabel='sentiment_value', ylabel='Density'>"
      ]
     },
     "execution_count": 12,
     "metadata": {},
     "output_type": "execute_result"
    },
    {
     "data": {
      "image/png": "[encoded data removed]",
      "text/plain": [
       "<Figure size 432x288 with 1 Axes>"
      ]
     },
     "metadata": {
      "needs_background": "light"
     },
     "output_type": "display_data"
    }
   ],
   "source": [
    "import seaborn as sns\n",
    "import matplotlib.pyplot as plt\n",
    "sns.distplot(df['sentiment_value'])"
   ]
  },
  {
   "cell_type": "code",
   "execution_count": 13,
   "metadata": {
    "colab": {
     "base_uri": "https://localhost:8080/",
     "height": 555
    },
    "id": "25Xx8dkXWIVN",
    "outputId": "2596003b-ba9a-427d-a1b3-9f82b807a76d"
   },
   "outputs": [
    {
     "data": {
      "text/html": [
       "<div>\n",
       "<style scoped>\n",
       "    .dataframe tbody tr th:only-of-type {\n",
       "        vertical-align: middle;\n",
       "    }\n",
       "\n",
       "    .dataframe tbody tr th {\n",
       "        vertical-align: top;\n",
       "    }\n",
       "\n",
       "    .dataframe thead th {\n",
       "        text-align: right;\n",
       "    }\n",
       "</style>\n",
       "<table border=\"1\" class=\"dataframe\">\n",
       "  <thead>\n",
       "    <tr style=\"text-align: right;\">\n",
       "      <th></th>\n",
       "      <th>customer</th>\n",
       "      <th>review</th>\n",
       "      <th>normalised_reviews</th>\n",
       "      <th>sentiment_value</th>\n",
       "      <th>index</th>\n",
       "    </tr>\n",
       "  </thead>\n",
       "  <tbody>\n",
       "    <tr>\n",
       "      <th>0</th>\n",
       "      <td>Diksha Suman (@beingsheblog)</td>\n",
       "      <td>Title: THINK AND GROW RICHAuthor: NAPOLEON H...</td>\n",
       "      <td>title think grow richauthor napoleon hillpubli...</td>\n",
       "      <td>21</td>\n",
       "      <td>0</td>\n",
       "    </tr>\n",
       "    <tr>\n",
       "      <th>1</th>\n",
       "      <td>Naveen Sharma</td>\n",
       "      <td>It took quarter of a century to accumulate i...</td>\n",
       "      <td>took quarter century accumulate information wr...</td>\n",
       "      <td>21</td>\n",
       "      <td>1</td>\n",
       "    </tr>\n",
       "    <tr>\n",
       "      <th>2</th>\n",
       "      <td>SAINATH REDDY</td>\n",
       "      <td>When you face criticism in your life try to ...</td>\n",
       "      <td>face criticism life try turn page book find wa...</td>\n",
       "      <td>7</td>\n",
       "      <td>2</td>\n",
       "    </tr>\n",
       "    <tr>\n",
       "      <th>3</th>\n",
       "      <td>Debojit</td>\n",
       "      <td>I was looking through some of the reviews an...</td>\n",
       "      <td>looking review see people gave five star gave ...</td>\n",
       "      <td>14</td>\n",
       "      <td>3</td>\n",
       "    </tr>\n",
       "    <tr>\n",
       "      <th>4</th>\n",
       "      <td>BhaveshB.O.T™</td>\n",
       "      <td>This book can also be called as Think and Gr...</td>\n",
       "      <td>book also called think grow skill think grow k...</td>\n",
       "      <td>32</td>\n",
       "      <td>4</td>\n",
       "    </tr>\n",
       "    <tr>\n",
       "      <th>...</th>\n",
       "      <td>...</td>\n",
       "      <td>...</td>\n",
       "      <td>...</td>\n",
       "      <td>...</td>\n",
       "      <td>...</td>\n",
       "    </tr>\n",
       "    <tr>\n",
       "      <th>1995</th>\n",
       "      <td>Dipesh</td>\n",
       "      <td>Can't explain, everyone please read.</td>\n",
       "      <td>explain everyone please read</td>\n",
       "      <td>1</td>\n",
       "      <td>1994</td>\n",
       "    </tr>\n",
       "    <tr>\n",
       "      <th>1996</th>\n",
       "      <td>AkshAr KalathiYa</td>\n",
       "      <td>Book is really nice and print is also good</td>\n",
       "      <td>book really nice print also good</td>\n",
       "      <td>6</td>\n",
       "      <td>1995</td>\n",
       "    </tr>\n",
       "    <tr>\n",
       "      <th>1997</th>\n",
       "      <td>yamjalamallesh</td>\n",
       "      <td>I call it as granddaddy of all inspirational...</td>\n",
       "      <td>call granddaddy inspirational motivational lit...</td>\n",
       "      <td>6</td>\n",
       "      <td>1996</td>\n",
       "    </tr>\n",
       "    <tr>\n",
       "      <th>1998</th>\n",
       "      <td>suprith m</td>\n",
       "      <td>Poor qualityPurchase from other publications</td>\n",
       "      <td>poor qualitypurchase publication</td>\n",
       "      <td>-2</td>\n",
       "      <td>1997</td>\n",
       "    </tr>\n",
       "    <tr>\n",
       "      <th>1999</th>\n",
       "      <td>Shaifali</td>\n",
       "      <td>The most economic thing in this world that y...</td>\n",
       "      <td>economic thing world money buy may worth milio...</td>\n",
       "      <td>2</td>\n",
       "      <td>1998</td>\n",
       "    </tr>\n",
       "  </tbody>\n",
       "</table>\n",
       "<p>1999 rows × 5 columns</p>\n",
       "</div>"
      ],
      "text/plain": [
       "                          customer  \\\n",
       "0     Diksha Suman (@beingsheblog)   \n",
       "1                    Naveen Sharma   \n",
       "2                    SAINATH REDDY   \n",
       "3                          Debojit   \n",
       "4                    BhaveshB.O.T™   \n",
       "...                            ...   \n",
       "1995                        Dipesh   \n",
       "1996              AkshAr KalathiYa   \n",
       "1997                yamjalamallesh   \n",
       "1998                     suprith m   \n",
       "1999                      Shaifali   \n",
       "\n",
       "                                                 review  \\\n",
       "0       Title: THINK AND GROW RICHAuthor: NAPOLEON H...   \n",
       "1       It took quarter of a century to accumulate i...   \n",
       "2       When you face criticism in your life try to ...   \n",
       "3       I was looking through some of the reviews an...   \n",
       "4       This book can also be called as Think and Gr...   \n",
       "...                                                 ...   \n",
       "1995               Can't explain, everyone please read.   \n",
       "1996         Book is really nice and print is also good   \n",
       "1997    I call it as granddaddy of all inspirational...   \n",
       "1998       Poor qualityPurchase from other publications   \n",
       "1999    The most economic thing in this world that y...   \n",
       "\n",
       "                                     normalised_reviews  sentiment_value  \\\n",
       "0     title think grow richauthor napoleon hillpubli...               21   \n",
       "1     took quarter century accumulate information wr...               21   \n",
       "2     face criticism life try turn page book find wa...                7   \n",
       "3     looking review see people gave five star gave ...               14   \n",
       "4     book also called think grow skill think grow k...               32   \n",
       "...                                                 ...              ...   \n",
       "1995                       explain everyone please read                1   \n",
       "1996                   book really nice print also good                6   \n",
       "1997  call granddaddy inspirational motivational lit...                6   \n",
       "1998                   poor qualitypurchase publication               -2   \n",
       "1999  economic thing world money buy may worth milio...                2   \n",
       "\n",
       "      index  \n",
       "0         0  \n",
       "1         1  \n",
       "2         2  \n",
       "3         3  \n",
       "4         4  \n",
       "...     ...  \n",
       "1995   1994  \n",
       "1996   1995  \n",
       "1997   1996  \n",
       "1998   1997  \n",
       "1999   1998  \n",
       "\n",
       "[1999 rows x 5 columns]"
      ]
     },
     "execution_count": 13,
     "metadata": {},
     "output_type": "execute_result"
    }
   ],
   "source": [
    "df['index']=range(0,len(df))\n",
    "df\n",
    "# positive,negative zero reviews"
   ]
  },
  {
   "cell_type": "code",
   "execution_count": 14,
   "metadata": {
    "colab": {
     "base_uri": "https://localhost:8080/",
     "height": 623
    },
    "id": "ryh4XKdXSUGa",
    "outputId": "8ba1d80d-72a0-4200-a8cb-d16c81b979bd"
   },
   "outputs": [
    {
     "data": {
      "text/plain": [
       "<AxesSubplot:xlabel='index', ylabel='sentiment_value'>"
      ]
     },
     "execution_count": 14,
     "metadata": {},
     "output_type": "execute_result"
    },
    {
     "data": {
      "image/png": "[encoded data removed]",
      "text/plain": [
       "<Figure size 1080x720 with 1 Axes>"
      ]
     },
     "metadata": {
      "needs_background": "light"
     },
     "output_type": "display_data"
    }
   ],
   "source": [
    "plt.figure(figsize=(15, 10))\n",
    "sns.lineplot(y='sentiment_value',x='index',data=df)"
   ]
  },
  {
   "cell_type": "code",
   "execution_count": 15,
   "metadata": {
    "colab": {
     "base_uri": "https://localhost:8080/",
     "height": 529
    },
    "id": "pWM9uF-sTmXa",
    "outputId": "495903ae-34b0-453b-81d6-1a367f25103f"
   },
   "outputs": [
    {
     "data": {
      "text/html": [
       "<div>\n",
       "<style scoped>\n",
       "    .dataframe tbody tr th:only-of-type {\n",
       "        vertical-align: middle;\n",
       "    }\n",
       "\n",
       "    .dataframe tbody tr th {\n",
       "        vertical-align: top;\n",
       "    }\n",
       "\n",
       "    .dataframe thead th {\n",
       "        text-align: right;\n",
       "    }\n",
       "</style>\n",
       "<table border=\"1\" class=\"dataframe\">\n",
       "  <thead>\n",
       "    <tr style=\"text-align: right;\">\n",
       "      <th></th>\n",
       "      <th>customer</th>\n",
       "      <th>review</th>\n",
       "      <th>normalised_reviews</th>\n",
       "      <th>sentiment_value</th>\n",
       "      <th>index</th>\n",
       "      <th>word_count</th>\n",
       "    </tr>\n",
       "  </thead>\n",
       "  <tbody>\n",
       "    <tr>\n",
       "      <th>0</th>\n",
       "      <td>Diksha Suman (@beingsheblog)</td>\n",
       "      <td>Title: THINK AND GROW RICHAuthor: NAPOLEON H...</td>\n",
       "      <td>title think grow richauthor napoleon hillpubli...</td>\n",
       "      <td>21</td>\n",
       "      <td>0</td>\n",
       "      <td>76</td>\n",
       "    </tr>\n",
       "    <tr>\n",
       "      <th>1</th>\n",
       "      <td>Naveen Sharma</td>\n",
       "      <td>It took quarter of a century to accumulate i...</td>\n",
       "      <td>took quarter century accumulate information wr...</td>\n",
       "      <td>21</td>\n",
       "      <td>1</td>\n",
       "      <td>75</td>\n",
       "    </tr>\n",
       "    <tr>\n",
       "      <th>2</th>\n",
       "      <td>SAINATH REDDY</td>\n",
       "      <td>When you face criticism in your life try to ...</td>\n",
       "      <td>face criticism life try turn page book find wa...</td>\n",
       "      <td>7</td>\n",
       "      <td>2</td>\n",
       "      <td>40</td>\n",
       "    </tr>\n",
       "    <tr>\n",
       "      <th>3</th>\n",
       "      <td>Debojit</td>\n",
       "      <td>I was looking through some of the reviews an...</td>\n",
       "      <td>looking review see people gave five star gave ...</td>\n",
       "      <td>14</td>\n",
       "      <td>3</td>\n",
       "      <td>99</td>\n",
       "    </tr>\n",
       "    <tr>\n",
       "      <th>4</th>\n",
       "      <td>BhaveshB.O.T™</td>\n",
       "      <td>This book can also be called as Think and Gr...</td>\n",
       "      <td>book also called think grow skill think grow k...</td>\n",
       "      <td>32</td>\n",
       "      <td>4</td>\n",
       "      <td>93</td>\n",
       "    </tr>\n",
       "    <tr>\n",
       "      <th>5</th>\n",
       "      <td>Vivek Dhungav</td>\n",
       "      <td>This book is high class and more valuable wh...</td>\n",
       "      <td>book high class valuable power change life sur...</td>\n",
       "      <td>4</td>\n",
       "      <td>5</td>\n",
       "      <td>20</td>\n",
       "    </tr>\n",
       "    <tr>\n",
       "      <th>6</th>\n",
       "      <td>Varub Bansal</td>\n",
       "      <td>Don't read reviews. If you want to get reach...</td>\n",
       "      <td>read review want get reach get book jaico publ...</td>\n",
       "      <td>7</td>\n",
       "      <td>6</td>\n",
       "      <td>24</td>\n",
       "    </tr>\n",
       "    <tr>\n",
       "      <th>7</th>\n",
       "      <td>Shubham Padwal</td>\n",
       "      <td>This is a review of Think and Grow Rich (Pen...</td>\n",
       "      <td>review think grow rich penguin random house re...</td>\n",
       "      <td>2</td>\n",
       "      <td>7</td>\n",
       "      <td>30</td>\n",
       "    </tr>\n",
       "    <tr>\n",
       "      <th>8</th>\n",
       "      <td>Aditya Basu Dhar</td>\n",
       "      <td>Go buy the purple/blue colored Think and Gro...</td>\n",
       "      <td>go buy purple blue colored think grow rich pub...</td>\n",
       "      <td>15</td>\n",
       "      <td>8</td>\n",
       "      <td>44</td>\n",
       "    </tr>\n",
       "    <tr>\n",
       "      <th>9</th>\n",
       "      <td>Abhiishek Mohta</td>\n",
       "      <td>There was an idea, Andrew Carnegie and Napol...</td>\n",
       "      <td>idea andrew carnegie napolean hill knew called...</td>\n",
       "      <td>41</td>\n",
       "      <td>9</td>\n",
       "      <td>210</td>\n",
       "    </tr>\n",
       "  </tbody>\n",
       "</table>\n",
       "</div>"
      ],
      "text/plain": [
       "                       customer  \\\n",
       "0  Diksha Suman (@beingsheblog)   \n",
       "1                 Naveen Sharma   \n",
       "2                 SAINATH REDDY   \n",
       "3                       Debojit   \n",
       "4                 BhaveshB.O.T™   \n",
       "5                 Vivek Dhungav   \n",
       "6                  Varub Bansal   \n",
       "7                Shubham Padwal   \n",
       "8              Aditya Basu Dhar   \n",
       "9               Abhiishek Mohta   \n",
       "\n",
       "                                              review  \\\n",
       "0    Title: THINK AND GROW RICHAuthor: NAPOLEON H...   \n",
       "1    It took quarter of a century to accumulate i...   \n",
       "2    When you face criticism in your life try to ...   \n",
       "3    I was looking through some of the reviews an...   \n",
       "4    This book can also be called as Think and Gr...   \n",
       "5    This book is high class and more valuable wh...   \n",
       "6    Don't read reviews. If you want to get reach...   \n",
       "7    This is a review of Think and Grow Rich (Pen...   \n",
       "8    Go buy the purple/blue colored Think and Gro...   \n",
       "9    There was an idea, Andrew Carnegie and Napol...   \n",
       "\n",
       "                                  normalised_reviews  sentiment_value  index  \\\n",
       "0  title think grow richauthor napoleon hillpubli...               21      0   \n",
       "1  took quarter century accumulate information wr...               21      1   \n",
       "2  face criticism life try turn page book find wa...                7      2   \n",
       "3  looking review see people gave five star gave ...               14      3   \n",
       "4  book also called think grow skill think grow k...               32      4   \n",
       "5  book high class valuable power change life sur...                4      5   \n",
       "6  read review want get reach get book jaico publ...                7      6   \n",
       "7  review think grow rich penguin random house re...                2      7   \n",
       "8  go buy purple blue colored think grow rich pub...               15      8   \n",
       "9  idea andrew carnegie napolean hill knew called...               41      9   \n",
       "\n",
       "   word_count  \n",
       "0          76  \n",
       "1          75  \n",
       "2          40  \n",
       "3          99  \n",
       "4          93  \n",
       "5          20  \n",
       "6          24  \n",
       "7          30  \n",
       "8          44  \n",
       "9         210  "
      ]
     },
     "execution_count": 15,
     "metadata": {},
     "output_type": "execute_result"
    }
   ],
   "source": [
    "df['word_count'] = df['normalised_reviews'].str.split().apply(len)\n",
    "df.head(10)"
   ]
  },
  {
   "cell_type": "code",
   "execution_count": 16,
   "metadata": {
    "colab": {
     "base_uri": "https://localhost:8080/"
    },
    "id": "F55e9BsTRJJ_",
    "outputId": "ec730213-344e-4c46-b554-060b8121fd63"
   },
   "outputs": [
    {
     "data": {
      "text/plain": [
       "0       title think grow richauthor napoleon hillpubli...\n",
       "1       took quarter century accumulate information wr...\n",
       "2       face criticism life try turn page book find wa...\n",
       "3       looking review see people gave five star gave ...\n",
       "4       book also called think grow skill think grow k...\n",
       "                              ...                        \n",
       "1995                         explain everyone please read\n",
       "1996                     book really nice print also good\n",
       "1997    call granddaddy inspirational motivational lit...\n",
       "1998                     poor qualitypurchase publication\n",
       "1999    economic thing world money buy may worth milio...\n",
       "Name: normalised_reviews, Length: 1999, dtype: object"
      ]
     },
     "execution_count": 16,
     "metadata": {},
     "output_type": "execute_result"
    }
   ],
   "source": [
    "df[\"normalised_reviews\"] "
   ]
  },
  {
   "cell_type": "code",
   "execution_count": 17,
   "metadata": {
    "id": "TcXFzoNqRJKI"
   },
   "outputs": [],
   "source": [
    "def rating_allocator(x):\n",
    "    if int(x) > 10:\n",
    "        x = \"positive\"\n",
    "    else:\n",
    "        x = \"negative\"\n",
    "    return x\n",
    "df[\"sentiment\"] = df[\"sentiment_value\"].apply(rating_allocator)"
   ]
  },
  {
   "cell_type": "code",
   "execution_count": 18,
   "metadata": {
    "colab": {
     "base_uri": "https://localhost:8080/",
     "height": 306
    },
    "id": "vPY0wH4fRJKJ",
    "outputId": "dc7bb49d-90a8-4a25-c70a-21ef4327cdfc",
    "scrolled": true
   },
   "outputs": [
    {
     "data": {
      "text/html": [
       "<div>\n",
       "<style scoped>\n",
       "    .dataframe tbody tr th:only-of-type {\n",
       "        vertical-align: middle;\n",
       "    }\n",
       "\n",
       "    .dataframe tbody tr th {\n",
       "        vertical-align: top;\n",
       "    }\n",
       "\n",
       "    .dataframe thead th {\n",
       "        text-align: right;\n",
       "    }\n",
       "</style>\n",
       "<table border=\"1\" class=\"dataframe\">\n",
       "  <thead>\n",
       "    <tr style=\"text-align: right;\">\n",
       "      <th></th>\n",
       "      <th>customer</th>\n",
       "      <th>review</th>\n",
       "      <th>normalised_reviews</th>\n",
       "      <th>sentiment_value</th>\n",
       "      <th>index</th>\n",
       "      <th>word_count</th>\n",
       "      <th>sentiment</th>\n",
       "    </tr>\n",
       "  </thead>\n",
       "  <tbody>\n",
       "    <tr>\n",
       "      <th>0</th>\n",
       "      <td>Diksha Suman (@beingsheblog)</td>\n",
       "      <td>Title: THINK AND GROW RICHAuthor: NAPOLEON H...</td>\n",
       "      <td>title think grow richauthor napoleon hillpubli...</td>\n",
       "      <td>21</td>\n",
       "      <td>0</td>\n",
       "      <td>76</td>\n",
       "      <td>positive</td>\n",
       "    </tr>\n",
       "    <tr>\n",
       "      <th>1</th>\n",
       "      <td>Naveen Sharma</td>\n",
       "      <td>It took quarter of a century to accumulate i...</td>\n",
       "      <td>took quarter century accumulate information wr...</td>\n",
       "      <td>21</td>\n",
       "      <td>1</td>\n",
       "      <td>75</td>\n",
       "      <td>positive</td>\n",
       "    </tr>\n",
       "    <tr>\n",
       "      <th>2</th>\n",
       "      <td>SAINATH REDDY</td>\n",
       "      <td>When you face criticism in your life try to ...</td>\n",
       "      <td>face criticism life try turn page book find wa...</td>\n",
       "      <td>7</td>\n",
       "      <td>2</td>\n",
       "      <td>40</td>\n",
       "      <td>positive</td>\n",
       "    </tr>\n",
       "    <tr>\n",
       "      <th>3</th>\n",
       "      <td>Debojit</td>\n",
       "      <td>I was looking through some of the reviews an...</td>\n",
       "      <td>looking review see people gave five star gave ...</td>\n",
       "      <td>14</td>\n",
       "      <td>3</td>\n",
       "      <td>99</td>\n",
       "      <td>positive</td>\n",
       "    </tr>\n",
       "    <tr>\n",
       "      <th>4</th>\n",
       "      <td>BhaveshB.O.T™</td>\n",
       "      <td>This book can also be called as Think and Gr...</td>\n",
       "      <td>book also called think grow skill think grow k...</td>\n",
       "      <td>32</td>\n",
       "      <td>4</td>\n",
       "      <td>93</td>\n",
       "      <td>positive</td>\n",
       "    </tr>\n",
       "  </tbody>\n",
       "</table>\n",
       "</div>"
      ],
      "text/plain": [
       "                       customer  \\\n",
       "0  Diksha Suman (@beingsheblog)   \n",
       "1                 Naveen Sharma   \n",
       "2                 SAINATH REDDY   \n",
       "3                       Debojit   \n",
       "4                 BhaveshB.O.T™   \n",
       "\n",
       "                                              review  \\\n",
       "0    Title: THINK AND GROW RICHAuthor: NAPOLEON H...   \n",
       "1    It took quarter of a century to accumulate i...   \n",
       "2    When you face criticism in your life try to ...   \n",
       "3    I was looking through some of the reviews an...   \n",
       "4    This book can also be called as Think and Gr...   \n",
       "\n",
       "                                  normalised_reviews  sentiment_value  index  \\\n",
       "0  title think grow richauthor napoleon hillpubli...               21      0   \n",
       "1  took quarter century accumulate information wr...               21      1   \n",
       "2  face criticism life try turn page book find wa...                7      2   \n",
       "3  looking review see people gave five star gave ...               14      3   \n",
       "4  book also called think grow skill think grow k...               32      4   \n",
       "\n",
       "   word_count sentiment  \n",
       "0          76  positive  \n",
       "1          75  positive  \n",
       "2          40  positive  \n",
       "3          99  positive  \n",
       "4          93  positive  "
      ]
     },
     "execution_count": 18,
     "metadata": {},
     "output_type": "execute_result"
    }
   ],
   "source": [
    "def rating_allocator(x):\n",
    "    if int(x) > 4:\n",
    "        x = \"positive\"\n",
    "    elif (int(x) > -2 and int(x) < 4):\n",
    "        x = \"neutral\"\n",
    "    else:\n",
    "        x = \"negative\"\n",
    "    return x\n",
    "df[\"sentiment\"] = df[\"sentiment_value\"].apply(rating_allocator)\n",
    "df.head()"
   ]
  },
  {
   "cell_type": "code",
   "execution_count": 19,
   "metadata": {
    "colab": {
     "base_uri": "https://localhost:8080/"
    },
    "id": "yfTRr82ZRJKL",
    "outputId": "0b6884c1-939c-41c2-8c88-499012ccfecb"
   },
   "outputs": [
    {
     "data": {
      "text/plain": [
       "neutral     989\n",
       "positive    764\n",
       "negative    246\n",
       "Name: sentiment, dtype: int64"
      ]
     },
     "execution_count": 19,
     "metadata": {},
     "output_type": "execute_result"
    }
   ],
   "source": [
    "df[\"sentiment\"].value_counts()"
   ]
  },
  {
   "cell_type": "code",
   "execution_count": 20,
   "metadata": {
    "id": "9A7aj132f5YD"
   },
   "outputs": [],
   "source": [
    "df.to_csv(\"project_viz1.csv\")"
   ]
  },
  {
   "cell_type": "code",
   "execution_count": 21,
   "metadata": {
    "id": "23Fg6K9QRJKL"
   },
   "outputs": [],
   "source": [
    "# # pd.set_option(\"display.max_columns\", \"display.max_rows\")\n",
    "# df[df[\"sentiment_value\"] == 20][\"review\"]"
   ]
  },
  {
   "cell_type": "code",
   "execution_count": null,
   "metadata": {
    "id": "yNzxb78uANDZ"
   },
   "outputs": [],
   "source": []
  },
  {
   "cell_type": "code",
   "execution_count": 22,
   "metadata": {
    "id": "XQ4RZ37MRJKM"
   },
   "outputs": [],
   "source": [
    "# decode_map = {0: \"NEGATIVE\", 2: \"NEUTRAL\", 4: \"POSITIVE\"}\n",
    "# def decode_sentiment(label):\n",
    "#     return decode_map[int(label)]"
   ]
  },
  {
   "cell_type": "code",
   "execution_count": 23,
   "metadata": {
    "colab": {
     "base_uri": "https://localhost:8080/",
     "height": 379
    },
    "id": "8uP3IUGuRJKN",
    "outputId": "bc848383-56bb-45db-d6c3-d67d5d673954"
   },
   "outputs": [
    {
     "data": {
      "text/plain": [
       "<AxesSubplot:title={'center':'Box plot for sentiment values'}>"
      ]
     },
     "execution_count": 23,
     "metadata": {},
     "output_type": "execute_result"
    },
    {
     "data": {
      "image/png": "[encoded data removed]",
      "text/plain": [
       "<Figure size 576x396 with 1 Axes>"
      ]
     },
     "metadata": {},
     "output_type": "display_data"
    }
   ],
   "source": [
    "from matplotlib import style\n",
    "plt.style.use(\"seaborn\")\n",
    "df[\"sentiment_value\"].plot(kind = \"box\",  title = \"Box plot for sentiment values\")"
   ]
  },
  {
   "cell_type": "code",
   "execution_count": 24,
   "metadata": {
    "colab": {
     "base_uri": "https://localhost:8080/",
     "height": 379
    },
    "id": "j44LgSJeRJKO",
    "outputId": "d167d8cb-b905-4e74-d9aa-77436cb3d78e"
   },
   "outputs": [
    {
     "data": {
      "text/plain": [
       "<AxesSubplot:title={'center':'Histogram for sentiment values'}, ylabel='Frequency'>"
      ]
     },
     "execution_count": 24,
     "metadata": {},
     "output_type": "execute_result"
    },
    {
     "data": {
      "image/png": "[encoded data removed]",
      "text/plain": [
       "<Figure size 576x396 with 1 Axes>"
      ]
     },
     "metadata": {},
     "output_type": "display_data"
    }
   ],
   "source": [
    "from matplotlib import style\n",
    "plt.style.use(\"seaborn\")\n",
    "df[\"sentiment_value\"].plot(kind = \"hist\", title = \"Histogram for sentiment values\")"
   ]
  },
  {
   "cell_type": "code",
   "execution_count": 25,
   "metadata": {
    "colab": {
     "base_uri": "https://localhost:8080/"
    },
    "id": "azdO4uyfRJKP",
    "outputId": "33e39598-80c0-4b41-ae71-1c4a18ec40a9"
   },
   "outputs": [
    {
     "data": {
      "text/plain": [
       "count    1999.000000\n",
       "mean        4.176088\n",
       "std         4.389222\n",
       "min        -7.000000\n",
       "25%         2.000000\n",
       "50%         3.000000\n",
       "75%         6.000000\n",
       "max        47.000000\n",
       "Name: sentiment_value, dtype: float64"
      ]
     },
     "execution_count": 25,
     "metadata": {},
     "output_type": "execute_result"
    }
   ],
   "source": [
    "df[\"sentiment_value\"].describe()"
   ]
  },
  {
   "cell_type": "code",
   "execution_count": 26,
   "metadata": {
    "colab": {
     "base_uri": "https://localhost:8080/",
     "height": 529
    },
    "id": "gAjCKJH5WatV",
    "outputId": "6051f30d-5303-4f9e-faf9-6cc8889d10b0"
   },
   "outputs": [
    {
     "data": {
      "text/plain": [
       "<AxesSubplot:title={'center':'Sentence sentiment value to sentence word count'}, xlabel='word_count', ylabel='sentiment_value'>"
      ]
     },
     "execution_count": 26,
     "metadata": {},
     "output_type": "execute_result"
    },
    {
     "data": {
      "image/png": "[encoded data removed]",
      "text/plain": [
       "<Figure size 576x576 with 1 Axes>"
      ]
     },
     "metadata": {},
     "output_type": "display_data"
    }
   ],
   "source": [
    "\n",
    "df.plot.scatter(x='word_count', y='sentiment_value', figsize=(8,8), title='Sentence sentiment value to sentence word count')"
   ]
  },
  {
   "cell_type": "code",
   "execution_count": 27,
   "metadata": {
    "id": "XkBoJXUgP6CJ"
   },
   "outputs": [],
   "source": [
    "from PIL import Image\n",
    "import numpy as np\n",
    "# bookimage = np.array(Image.open(\"sample_data/book_image.png\"))\n",
    "# bookimage.shape"
   ]
  },
  {
   "cell_type": "code",
   "execution_count": 28,
   "metadata": {
    "id": "YL8ifx0KW55O"
   },
   "outputs": [],
   "source": [
    "def wordcloud(char,img_path,color):\n",
    "    plt.subplots(figsize=(15,10))\n",
    "    mask = np.array(Image.open(img_path))\n",
    "    wc = WordCloud(stopwords=STOPWORDS, \n",
    "                   mask=mask, background_color=\"white\", contour_color=color,\n",
    "                   max_words=2000, max_font_size=256,\n",
    "                   random_state=120)\n",
    "    wc.generate(' '.join(char))\n",
    "    plt.imshow(wc, interpolation=\"bilinear\")\n",
    "    plt.axis('off')\n",
    "    plt.show()\n",
    "    width=mask.shape[1],\n",
    "                  #  height=mask.shape[0]\n",
    "                  # contour_width=2"
   ]
  },
  {
   "cell_type": "code",
   "execution_count": 29,
   "metadata": {
    "id": "nMH2_xukT4pD"
   },
   "outputs": [],
   "source": [
    "# wordcloud(df[\"normalised_reviews\"], \"mickeymouse.png\", \"orange\")"
   ]
  },
  {
   "cell_type": "code",
   "execution_count": 30,
   "metadata": {
    "id": "cjYzQpUFFnwt"
   },
   "outputs": [],
   "source": [
    "# wordcloud(df[\"normalised_reviews\"], \"sample_data/kidwithbook.png\", \"orange\")"
   ]
  },
  {
   "cell_type": "code",
   "execution_count": null,
   "metadata": {
    "id": "9BC4GGKPn6MZ"
   },
   "outputs": [],
   "source": []
  },
  {
   "cell_type": "code",
   "execution_count": 31,
   "metadata": {
    "id": "b0Xv2b9fwHIp"
   },
   "outputs": [],
   "source": [
    "# wordcloud(df[\"normalised_reviews\"], \"emoji.png\", \"white\")"
   ]
  },
  {
   "cell_type": "code",
   "execution_count": 32,
   "metadata": {
    "id": "lwpZpKEC30YC"
   },
   "outputs": [],
   "source": [
    "# wordcloud(df[\"normalised_reviews\"], \"user.png\", \"white\")"
   ]
  },
  {
   "cell_type": "code",
   "execution_count": 33,
   "metadata": {
    "id": "m9Z6bU864UDu"
   },
   "outputs": [],
   "source": [
    "# wordcloud(df[\"normalised_reviews\"], \"thumbss.png\", \"white\")"
   ]
  },
  {
   "cell_type": "code",
   "execution_count": null,
   "metadata": {
    "id": "9DOlpZN-Arf4"
   },
   "outputs": [],
   "source": []
  },
  {
   "cell_type": "markdown",
   "metadata": {
    "id": "MOKKKMGxAswb"
   },
   "source": [
    "## N gram Analysis\n",
    "Unigram Analysis"
   ]
  },
  {
   "cell_type": "code",
   "execution_count": null,
   "metadata": {
    "id": "aaGrvtjVRJKV"
   },
   "outputs": [],
   "source": []
  },
  {
   "cell_type": "code",
   "execution_count": 34,
   "metadata": {
    "id": "dnr_WziLv_k6"
   },
   "outputs": [],
   "source": [
    "def word_freq(dataframe, n = None):\n",
    "    x = CountVectorizer().fit(dataframe)\n",
    "    bag_of_words = x.transform(dataframe)\n",
    "    sum_words = bag_of_words.sum(axis=0)\n",
    "    # word_list = x.vocabulary_.items()\n",
    "    words_freq = [(word, sum_words[0, idx]) for word, idx in x.vocabulary_.items()]\n",
    "    words_freq = sorted(words_freq, key = lambda x: x[1], reverse=True)\n",
    "    return words_freq[:n]"
   ]
  },
  {
   "cell_type": "code",
   "execution_count": 35,
   "metadata": {
    "colab": {
     "base_uri": "https://localhost:8080/",
     "height": 669
    },
    "id": "YcSPPpBlRJKV",
    "outputId": "b45daa24-51b3-44a8-ca63-22a11cbe739d"
   },
   "outputs": [
    {
     "data": {
      "text/html": [
       "<div>\n",
       "<style scoped>\n",
       "    .dataframe tbody tr th:only-of-type {\n",
       "        vertical-align: middle;\n",
       "    }\n",
       "\n",
       "    .dataframe tbody tr th {\n",
       "        vertical-align: top;\n",
       "    }\n",
       "\n",
       "    .dataframe thead th {\n",
       "        text-align: right;\n",
       "    }\n",
       "</style>\n",
       "<table border=\"1\" class=\"dataframe\">\n",
       "  <thead>\n",
       "    <tr style=\"text-align: right;\">\n",
       "      <th></th>\n",
       "      <th>Word</th>\n",
       "      <th>Frequency</th>\n",
       "    </tr>\n",
       "  </thead>\n",
       "  <tbody>\n",
       "    <tr>\n",
       "      <th>0</th>\n",
       "      <td>book</td>\n",
       "      <td>2220</td>\n",
       "    </tr>\n",
       "    <tr>\n",
       "      <th>1</th>\n",
       "      <td>read</td>\n",
       "      <td>768</td>\n",
       "    </tr>\n",
       "    <tr>\n",
       "      <th>2</th>\n",
       "      <td>good</td>\n",
       "      <td>544</td>\n",
       "    </tr>\n",
       "    <tr>\n",
       "      <th>3</th>\n",
       "      <td>life</td>\n",
       "      <td>389</td>\n",
       "    </tr>\n",
       "    <tr>\n",
       "      <th>4</th>\n",
       "      <td>one</td>\n",
       "      <td>313</td>\n",
       "    </tr>\n",
       "    <tr>\n",
       "      <th>5</th>\n",
       "      <td>must</td>\n",
       "      <td>274</td>\n",
       "    </tr>\n",
       "    <tr>\n",
       "      <th>6</th>\n",
       "      <td>quality</td>\n",
       "      <td>271</td>\n",
       "    </tr>\n",
       "    <tr>\n",
       "      <th>7</th>\n",
       "      <td>great</td>\n",
       "      <td>233</td>\n",
       "    </tr>\n",
       "    <tr>\n",
       "      <th>8</th>\n",
       "      <td>best</td>\n",
       "      <td>211</td>\n",
       "    </tr>\n",
       "    <tr>\n",
       "      <th>9</th>\n",
       "      <td>rich</td>\n",
       "      <td>208</td>\n",
       "    </tr>\n",
       "    <tr>\n",
       "      <th>10</th>\n",
       "      <td>reading</td>\n",
       "      <td>195</td>\n",
       "    </tr>\n",
       "    <tr>\n",
       "      <th>11</th>\n",
       "      <td>want</td>\n",
       "      <td>171</td>\n",
       "    </tr>\n",
       "    <tr>\n",
       "      <th>12</th>\n",
       "      <td>page</td>\n",
       "      <td>169</td>\n",
       "    </tr>\n",
       "    <tr>\n",
       "      <th>13</th>\n",
       "      <td>think</td>\n",
       "      <td>168</td>\n",
       "    </tr>\n",
       "    <tr>\n",
       "      <th>14</th>\n",
       "      <td>time</td>\n",
       "      <td>165</td>\n",
       "    </tr>\n",
       "    <tr>\n",
       "      <th>15</th>\n",
       "      <td>really</td>\n",
       "      <td>149</td>\n",
       "    </tr>\n",
       "    <tr>\n",
       "      <th>16</th>\n",
       "      <td>help</td>\n",
       "      <td>147</td>\n",
       "    </tr>\n",
       "    <tr>\n",
       "      <th>17</th>\n",
       "      <td>nice</td>\n",
       "      <td>136</td>\n",
       "    </tr>\n",
       "    <tr>\n",
       "      <th>18</th>\n",
       "      <td>self</td>\n",
       "      <td>135</td>\n",
       "    </tr>\n",
       "    <tr>\n",
       "      <th>19</th>\n",
       "      <td>like</td>\n",
       "      <td>117</td>\n",
       "    </tr>\n",
       "  </tbody>\n",
       "</table>\n",
       "</div>"
      ],
      "text/plain": [
       "       Word  Frequency\n",
       "0      book       2220\n",
       "1      read        768\n",
       "2      good        544\n",
       "3      life        389\n",
       "4       one        313\n",
       "5      must        274\n",
       "6   quality        271\n",
       "7     great        233\n",
       "8      best        211\n",
       "9      rich        208\n",
       "10  reading        195\n",
       "11     want        171\n",
       "12     page        169\n",
       "13    think        168\n",
       "14     time        165\n",
       "15   really        149\n",
       "16     help        147\n",
       "17     nice        136\n",
       "18     self        135\n",
       "19     like        117"
      ]
     },
     "execution_count": 35,
     "metadata": {},
     "output_type": "execute_result"
    }
   ],
   "source": [
    "top_20 = word_freq(df[\"normalised_reviews\"], 20)\n",
    "top20_df = pd.DataFrame(top_20, columns = [\"Word\", \"Frequency\"])\n",
    "top20_df"
   ]
  },
  {
   "cell_type": "code",
   "execution_count": 36,
   "metadata": {
    "colab": {
     "base_uri": "https://localhost:8080/",
     "height": 623
    },
    "id": "BdpuBJ9RCAcs",
    "outputId": "a5cb80f4-055c-4609-a4d9-07ba7bcd2c69"
   },
   "outputs": [
    {
     "data": {
      "text/plain": [
       "<AxesSubplot:xlabel='Word', ylabel='Frequency'>"
      ]
     },
     "execution_count": 36,
     "metadata": {},
     "output_type": "execute_result"
    },
    {
     "data": {
      "image/png": "[encoded data removed]",
      "text/plain": [
       "<Figure size 1080x720 with 1 Axes>"
      ]
     },
     "metadata": {},
     "output_type": "display_data"
    }
   ],
   "source": [
    "import matplotlib.pyplot as plt\n",
    "import seaborn as sns\n",
    "fig, ax = plt.subplots(figsize=(15,10))\n",
    "sns.barplot(x = \"Word\", y = \"Frequency\", data = top20_df )"
   ]
  },
  {
   "cell_type": "markdown",
   "metadata": {
    "id": "svgj3_WTRJKX"
   },
   "source": [
    "## Bigram Analysis"
   ]
  },
  {
   "cell_type": "code",
   "execution_count": 37,
   "metadata": {
    "id": "UoR9tuFuRJKX"
   },
   "outputs": [],
   "source": [
    "def bigram_word_freq(dataframe, n = None):\n",
    "    x = CountVectorizer(ngram_range = (2,2)).fit(dataframe)\n",
    "    bag_of_words = x.transform(dataframe)\n",
    "    sum_words = bag_of_words.sum(axis=0)\n",
    "    # word_list = x.vocabulary_.items()\n",
    "    words_freq = [(word, sum_words[0, idx]) for word, idx in x.vocabulary_.items()]\n",
    "    words_freq = sorted(words_freq, key = lambda x: x[1], reverse=True)\n",
    "    return words_freq[:n]"
   ]
  },
  {
   "cell_type": "code",
   "execution_count": 38,
   "metadata": {
    "colab": {
     "base_uri": "https://localhost:8080/",
     "height": 669
    },
    "id": "n0ipn2dvRJKX",
    "outputId": "5d8ebc1f-5118-4b9e-da78-bec871349717"
   },
   "outputs": [
    {
     "data": {
      "text/html": [
       "<div>\n",
       "<style scoped>\n",
       "    .dataframe tbody tr th:only-of-type {\n",
       "        vertical-align: middle;\n",
       "    }\n",
       "\n",
       "    .dataframe tbody tr th {\n",
       "        vertical-align: top;\n",
       "    }\n",
       "\n",
       "    .dataframe thead th {\n",
       "        text-align: right;\n",
       "    }\n",
       "</style>\n",
       "<table border=\"1\" class=\"dataframe\">\n",
       "  <thead>\n",
       "    <tr style=\"text-align: right;\">\n",
       "      <th></th>\n",
       "      <th>Bigrams</th>\n",
       "      <th>Frequency</th>\n",
       "    </tr>\n",
       "  </thead>\n",
       "  <tbody>\n",
       "    <tr>\n",
       "      <th>0</th>\n",
       "      <td>must read</td>\n",
       "      <td>212</td>\n",
       "    </tr>\n",
       "    <tr>\n",
       "      <th>1</th>\n",
       "      <td>read book</td>\n",
       "      <td>190</td>\n",
       "    </tr>\n",
       "    <tr>\n",
       "      <th>2</th>\n",
       "      <td>good book</td>\n",
       "      <td>132</td>\n",
       "    </tr>\n",
       "    <tr>\n",
       "      <th>3</th>\n",
       "      <td>best book</td>\n",
       "      <td>104</td>\n",
       "    </tr>\n",
       "    <tr>\n",
       "      <th>4</th>\n",
       "      <td>book read</td>\n",
       "      <td>89</td>\n",
       "    </tr>\n",
       "    <tr>\n",
       "      <th>5</th>\n",
       "      <td>great book</td>\n",
       "      <td>82</td>\n",
       "    </tr>\n",
       "    <tr>\n",
       "      <th>6</th>\n",
       "      <td>grow rich</td>\n",
       "      <td>78</td>\n",
       "    </tr>\n",
       "    <tr>\n",
       "      <th>7</th>\n",
       "      <td>think grow</td>\n",
       "      <td>72</td>\n",
       "    </tr>\n",
       "    <tr>\n",
       "      <th>8</th>\n",
       "      <td>one best</td>\n",
       "      <td>70</td>\n",
       "    </tr>\n",
       "    <tr>\n",
       "      <th>9</th>\n",
       "      <td>nice book</td>\n",
       "      <td>69</td>\n",
       "    </tr>\n",
       "    <tr>\n",
       "      <th>10</th>\n",
       "      <td>reading book</td>\n",
       "      <td>64</td>\n",
       "    </tr>\n",
       "    <tr>\n",
       "      <th>11</th>\n",
       "      <td>self help</td>\n",
       "      <td>62</td>\n",
       "    </tr>\n",
       "    <tr>\n",
       "      <th>12</th>\n",
       "      <td>napoleon hill</td>\n",
       "      <td>60</td>\n",
       "    </tr>\n",
       "    <tr>\n",
       "      <th>13</th>\n",
       "      <td>book good</td>\n",
       "      <td>59</td>\n",
       "    </tr>\n",
       "    <tr>\n",
       "      <th>14</th>\n",
       "      <td>book ever</td>\n",
       "      <td>53</td>\n",
       "    </tr>\n",
       "    <tr>\n",
       "      <th>15</th>\n",
       "      <td>paper quality</td>\n",
       "      <td>52</td>\n",
       "    </tr>\n",
       "    <tr>\n",
       "      <th>16</th>\n",
       "      <td>book must</td>\n",
       "      <td>50</td>\n",
       "    </tr>\n",
       "    <tr>\n",
       "      <th>17</th>\n",
       "      <td>help book</td>\n",
       "      <td>48</td>\n",
       "    </tr>\n",
       "    <tr>\n",
       "      <th>18</th>\n",
       "      <td>amazing book</td>\n",
       "      <td>45</td>\n",
       "    </tr>\n",
       "    <tr>\n",
       "      <th>19</th>\n",
       "      <td>quality book</td>\n",
       "      <td>45</td>\n",
       "    </tr>\n",
       "  </tbody>\n",
       "</table>\n",
       "</div>"
      ],
      "text/plain": [
       "          Bigrams  Frequency\n",
       "0       must read        212\n",
       "1       read book        190\n",
       "2       good book        132\n",
       "3       best book        104\n",
       "4       book read         89\n",
       "5      great book         82\n",
       "6       grow rich         78\n",
       "7      think grow         72\n",
       "8        one best         70\n",
       "9       nice book         69\n",
       "10   reading book         64\n",
       "11      self help         62\n",
       "12  napoleon hill         60\n",
       "13      book good         59\n",
       "14      book ever         53\n",
       "15  paper quality         52\n",
       "16      book must         50\n",
       "17      help book         48\n",
       "18   amazing book         45\n",
       "19   quality book         45"
      ]
     },
     "execution_count": 38,
     "metadata": {},
     "output_type": "execute_result"
    }
   ],
   "source": [
    "bigram_freq = bigram_word_freq(df[\"normalised_reviews\"],20)\n",
    "bigram_df = pd.DataFrame(bigram_freq, columns = [\"Bigrams\", \"Frequency\"])\n",
    "bigram_df"
   ]
  },
  {
   "cell_type": "code",
   "execution_count": 39,
   "metadata": {
    "colab": {
     "base_uri": "https://localhost:8080/",
     "height": 709
    },
    "id": "4lvVctNsRJKY",
    "outputId": "d889e75b-f805-42e3-d925-ba5ad2e5d44f"
   },
   "outputs": [
    {
     "data": {
      "text/plain": [
       "<AxesSubplot:xlabel='Bigrams', ylabel='Frequency'>"
      ]
     },
     "execution_count": 39,
     "metadata": {},
     "output_type": "execute_result"
    },
    {
     "data": {
      "image/png": "[encoded data removed]",
      "text/plain": [
       "<Figure size 1584x1152 with 1 Axes>"
      ]
     },
     "metadata": {},
     "output_type": "display_data"
    }
   ],
   "source": [
    "import matplotlib.pyplot as plt\n",
    "import seaborn as sns\n",
    "fig, ax = plt.subplots(figsize=(22, 16))\n",
    "sns.barplot(x = \"Bigrams\", y = \"Frequency\", data = bigram_df)"
   ]
  },
  {
   "cell_type": "markdown",
   "metadata": {
    "id": "OleHpJZSRJKZ"
   },
   "source": [
    "## Trigram Analysis"
   ]
  },
  {
   "cell_type": "code",
   "execution_count": 40,
   "metadata": {
    "id": "0L-RAPLU-sjg"
   },
   "outputs": [],
   "source": [
    "def trigram_word_freq(dataframe, n = None):\n",
    "    x = CountVectorizer(ngram_range = (3,3)).fit(dataframe)\n",
    "    bag_of_words = x.transform(dataframe)\n",
    "    sum_words = bag_of_words.sum(axis=0)\n",
    "    # word_list = x.vocabulary_.items()\n",
    "    words_freq = [(word, sum_words[0, idx]) for word, idx in x.vocabulary_.items()]\n",
    "    words_freq = sorted(words_freq, key = lambda x: x[1], reverse=True)\n",
    "    return words_freq[:n]"
   ]
  },
  {
   "cell_type": "code",
   "execution_count": 41,
   "metadata": {
    "colab": {
     "base_uri": "https://localhost:8080/",
     "height": 669
    },
    "id": "WIRKCpGN-9Su",
    "outputId": "930b7ed6-cb4d-4a3d-cf36-ad6c40765d0a"
   },
   "outputs": [
    {
     "data": {
      "text/html": [
       "<div>\n",
       "<style scoped>\n",
       "    .dataframe tbody tr th:only-of-type {\n",
       "        vertical-align: middle;\n",
       "    }\n",
       "\n",
       "    .dataframe tbody tr th {\n",
       "        vertical-align: top;\n",
       "    }\n",
       "\n",
       "    .dataframe thead th {\n",
       "        text-align: right;\n",
       "    }\n",
       "</style>\n",
       "<table border=\"1\" class=\"dataframe\">\n",
       "  <thead>\n",
       "    <tr style=\"text-align: right;\">\n",
       "      <th></th>\n",
       "      <th>Trigrams</th>\n",
       "      <th>Frequency</th>\n",
       "    </tr>\n",
       "  </thead>\n",
       "  <tbody>\n",
       "    <tr>\n",
       "      <th>0</th>\n",
       "      <td>must read book</td>\n",
       "      <td>71</td>\n",
       "    </tr>\n",
       "    <tr>\n",
       "      <th>1</th>\n",
       "      <td>think grow rich</td>\n",
       "      <td>60</td>\n",
       "    </tr>\n",
       "    <tr>\n",
       "      <th>2</th>\n",
       "      <td>self help book</td>\n",
       "      <td>47</td>\n",
       "    </tr>\n",
       "    <tr>\n",
       "      <th>3</th>\n",
       "      <td>one best book</td>\n",
       "      <td>44</td>\n",
       "    </tr>\n",
       "    <tr>\n",
       "      <th>4</th>\n",
       "      <td>book must read</td>\n",
       "      <td>38</td>\n",
       "    </tr>\n",
       "    <tr>\n",
       "      <th>5</th>\n",
       "      <td>best book ever</td>\n",
       "      <td>31</td>\n",
       "    </tr>\n",
       "    <tr>\n",
       "      <th>6</th>\n",
       "      <td>book ever read</td>\n",
       "      <td>28</td>\n",
       "    </tr>\n",
       "    <tr>\n",
       "      <th>7</th>\n",
       "      <td>best self help</td>\n",
       "      <td>19</td>\n",
       "    </tr>\n",
       "    <tr>\n",
       "      <th>8</th>\n",
       "      <td>best book read</td>\n",
       "      <td>18</td>\n",
       "    </tr>\n",
       "    <tr>\n",
       "      <th>9</th>\n",
       "      <td>must read everyone</td>\n",
       "      <td>17</td>\n",
       "    </tr>\n",
       "    <tr>\n",
       "      <th>10</th>\n",
       "      <td>browser support html</td>\n",
       "      <td>15</td>\n",
       "    </tr>\n",
       "    <tr>\n",
       "      <th>11</th>\n",
       "      <td>support html video</td>\n",
       "      <td>15</td>\n",
       "    </tr>\n",
       "    <tr>\n",
       "      <th>12</th>\n",
       "      <td>good book read</td>\n",
       "      <td>15</td>\n",
       "    </tr>\n",
       "    <tr>\n",
       "      <th>13</th>\n",
       "      <td>one must read</td>\n",
       "      <td>15</td>\n",
       "    </tr>\n",
       "    <tr>\n",
       "      <th>14</th>\n",
       "      <td>life changing book</td>\n",
       "      <td>14</td>\n",
       "    </tr>\n",
       "    <tr>\n",
       "      <th>15</th>\n",
       "      <td>one best self</td>\n",
       "      <td>13</td>\n",
       "    </tr>\n",
       "    <tr>\n",
       "      <th>16</th>\n",
       "      <td>book ever written</td>\n",
       "      <td>12</td>\n",
       "    </tr>\n",
       "    <tr>\n",
       "      <th>17</th>\n",
       "      <td>power subconscious mind</td>\n",
       "      <td>12</td>\n",
       "    </tr>\n",
       "    <tr>\n",
       "      <th>18</th>\n",
       "      <td>paper quality good</td>\n",
       "      <td>12</td>\n",
       "    </tr>\n",
       "    <tr>\n",
       "      <th>19</th>\n",
       "      <td>everyone read book</td>\n",
       "      <td>11</td>\n",
       "    </tr>\n",
       "  </tbody>\n",
       "</table>\n",
       "</div>"
      ],
      "text/plain": [
       "                   Trigrams  Frequency\n",
       "0            must read book         71\n",
       "1           think grow rich         60\n",
       "2            self help book         47\n",
       "3             one best book         44\n",
       "4            book must read         38\n",
       "5            best book ever         31\n",
       "6            book ever read         28\n",
       "7            best self help         19\n",
       "8            best book read         18\n",
       "9        must read everyone         17\n",
       "10     browser support html         15\n",
       "11       support html video         15\n",
       "12           good book read         15\n",
       "13            one must read         15\n",
       "14       life changing book         14\n",
       "15            one best self         13\n",
       "16        book ever written         12\n",
       "17  power subconscious mind         12\n",
       "18       paper quality good         12\n",
       "19       everyone read book         11"
      ]
     },
     "execution_count": 41,
     "metadata": {},
     "output_type": "execute_result"
    }
   ],
   "source": [
    "trigram_freq = trigram_word_freq(df[\"normalised_reviews\"],20)\n",
    "trigram_df = pd.DataFrame(trigram_freq, columns = [\"Trigrams\", \"Frequency\"])\n",
    "trigram_df"
   ]
  },
  {
   "cell_type": "code",
   "execution_count": 42,
   "metadata": {
    "colab": {
     "base_uri": "https://localhost:8080/",
     "height": 654
    },
    "id": "buyH1pi7_kwB",
    "outputId": "751a1781-3396-4b21-9ae3-8177076bb158"
   },
   "outputs": [
    {
     "data": {
      "text/plain": [
       "<AxesSubplot:xlabel='Trigrams', ylabel='Frequency'>"
      ]
     },
     "execution_count": 42,
     "metadata": {},
     "output_type": "execute_result"
    },
    {
     "data": {
      "image/png": "[encoded data removed]",
      "text/plain": [
       "<Figure size 2160x1440 with 1 Axes>"
      ]
     },
     "metadata": {},
     "output_type": "display_data"
    }
   ],
   "source": [
    "import matplotlib.pyplot as plt\n",
    "import seaborn as sns\n",
    "fig, ax = plt.subplots(figsize=(30,20))\n",
    "sns.barplot(x = \"Trigrams\", y = \"Frequency\", data = trigram_df)"
   ]
  },
  {
   "cell_type": "code",
   "execution_count": 43,
   "metadata": {
    "id": "0z3Jxn5BRJKZ"
   },
   "outputs": [],
   "source": [
    "# ngram_word_freq(df[\"normalised_reviews\"], 20)"
   ]
  },
  {
   "cell_type": "code",
   "execution_count": 44,
   "metadata": {
    "id": "Mko2J_bLRJKZ"
   },
   "outputs": [],
   "source": [
    "# def ngram_word_freq(dataframe, range = None, n = 1):\n",
    "#     x = CountVectorizer(ngram_range = (n,n)).fit(dataframe)\n",
    "#     bag_of_words = x.transform(dataframe)\n",
    "#     sum_words = bag_of_words.sum(axis=0)\n",
    "#     # word_list = x.vocabulary_.items()\n",
    "#     words_freq = [(word, sum_words[0, idx]) for word, idx in x.vocabulary_.items()]\n",
    "#     words_freq = sorted(words_freq, key = lambda x: x[1], reverse=True)\n",
    "#     return words_freq[:range]"
   ]
  },
  {
   "cell_type": "code",
   "execution_count": null,
   "metadata": {
    "id": "4o3BV0DVRJKa"
   },
   "outputs": [],
   "source": []
  },
  {
   "cell_type": "code",
   "execution_count": null,
   "metadata": {
    "id": "aXL4EW9dRJKa"
   },
   "outputs": [],
   "source": []
  },
  {
   "cell_type": "markdown",
   "metadata": {
    "id": "rBjcrVS3iNzG"
   },
   "source": [
    "## Second Phase of Model Building | Vader sentiment analysis (Valence Aware Dictionary and sentiment Reasoner)\n"
   ]
  },
  {
   "cell_type": "code",
   "execution_count": 45,
   "metadata": {
    "id": "bfidsNMtRJKa"
   },
   "outputs": [],
   "source": [
    "# !pip install vaderSentiment"
   ]
  },
  {
   "cell_type": "code",
   "execution_count": 46,
   "metadata": {
    "id": "TtJ4wob7RJKb"
   },
   "outputs": [],
   "source": [
    "import vaderSentiment\n",
    "from vaderSentiment.vaderSentiment import SentimentIntensityAnalyzer\n",
    "analyser = SentimentIntensityAnalyzer()"
   ]
  },
  {
   "cell_type": "code",
   "execution_count": 47,
   "metadata": {
    "id": "GO0pImdvikw9"
   },
   "outputs": [],
   "source": [
    "def analyzer_score(sentence):\n",
    "    score = analyser.polarity_scores(sentence)\n",
    "    return score"
   ]
  },
  {
   "cell_type": "code",
   "execution_count": 48,
   "metadata": {
    "colab": {
     "base_uri": "https://localhost:8080/",
     "height": 487
    },
    "id": "167CiyMllKX2",
    "outputId": "de1ad9e5-a2d9-4ede-c186-580ea0dfcde6"
   },
   "outputs": [
    {
     "data": {
      "text/html": [
       "<div>\n",
       "<style scoped>\n",
       "    .dataframe tbody tr th:only-of-type {\n",
       "        vertical-align: middle;\n",
       "    }\n",
       "\n",
       "    .dataframe tbody tr th {\n",
       "        vertical-align: top;\n",
       "    }\n",
       "\n",
       "    .dataframe thead th {\n",
       "        text-align: right;\n",
       "    }\n",
       "</style>\n",
       "<table border=\"1\" class=\"dataframe\">\n",
       "  <thead>\n",
       "    <tr style=\"text-align: right;\">\n",
       "      <th></th>\n",
       "      <th>customer</th>\n",
       "      <th>review</th>\n",
       "      <th>normalised_reviews</th>\n",
       "      <th>index</th>\n",
       "    </tr>\n",
       "  </thead>\n",
       "  <tbody>\n",
       "    <tr>\n",
       "      <th>0</th>\n",
       "      <td>Diksha Suman (@beingsheblog)</td>\n",
       "      <td>Title: THINK AND GROW RICHAuthor: NAPOLEON H...</td>\n",
       "      <td>title think grow richauthor napoleon hillpubli...</td>\n",
       "      <td>0</td>\n",
       "    </tr>\n",
       "    <tr>\n",
       "      <th>1</th>\n",
       "      <td>Naveen Sharma</td>\n",
       "      <td>It took quarter of a century to accumulate i...</td>\n",
       "      <td>took quarter century accumulate information wr...</td>\n",
       "      <td>1</td>\n",
       "    </tr>\n",
       "    <tr>\n",
       "      <th>2</th>\n",
       "      <td>SAINATH REDDY</td>\n",
       "      <td>When you face criticism in your life try to ...</td>\n",
       "      <td>face criticism life try turn page book find wa...</td>\n",
       "      <td>2</td>\n",
       "    </tr>\n",
       "    <tr>\n",
       "      <th>3</th>\n",
       "      <td>Debojit</td>\n",
       "      <td>I was looking through some of the reviews an...</td>\n",
       "      <td>looking review see people gave five star gave ...</td>\n",
       "      <td>3</td>\n",
       "    </tr>\n",
       "    <tr>\n",
       "      <th>4</th>\n",
       "      <td>BhaveshB.O.T™</td>\n",
       "      <td>This book can also be called as Think and Gr...</td>\n",
       "      <td>book also called think grow skill think grow k...</td>\n",
       "      <td>4</td>\n",
       "    </tr>\n",
       "    <tr>\n",
       "      <th>...</th>\n",
       "      <td>...</td>\n",
       "      <td>...</td>\n",
       "      <td>...</td>\n",
       "      <td>...</td>\n",
       "    </tr>\n",
       "    <tr>\n",
       "      <th>1995</th>\n",
       "      <td>Dipesh</td>\n",
       "      <td>Can't explain, everyone please read.</td>\n",
       "      <td>explain everyone please read</td>\n",
       "      <td>1994</td>\n",
       "    </tr>\n",
       "    <tr>\n",
       "      <th>1996</th>\n",
       "      <td>AkshAr KalathiYa</td>\n",
       "      <td>Book is really nice and print is also good</td>\n",
       "      <td>book really nice print also good</td>\n",
       "      <td>1995</td>\n",
       "    </tr>\n",
       "    <tr>\n",
       "      <th>1997</th>\n",
       "      <td>yamjalamallesh</td>\n",
       "      <td>I call it as granddaddy of all inspirational...</td>\n",
       "      <td>call granddaddy inspirational motivational lit...</td>\n",
       "      <td>1996</td>\n",
       "    </tr>\n",
       "    <tr>\n",
       "      <th>1998</th>\n",
       "      <td>suprith m</td>\n",
       "      <td>Poor qualityPurchase from other publications</td>\n",
       "      <td>poor qualitypurchase publication</td>\n",
       "      <td>1997</td>\n",
       "    </tr>\n",
       "    <tr>\n",
       "      <th>1999</th>\n",
       "      <td>Shaifali</td>\n",
       "      <td>The most economic thing in this world that y...</td>\n",
       "      <td>economic thing world money buy may worth milio...</td>\n",
       "      <td>1998</td>\n",
       "    </tr>\n",
       "  </tbody>\n",
       "</table>\n",
       "<p>1999 rows × 4 columns</p>\n",
       "</div>"
      ],
      "text/plain": [
       "                          customer  \\\n",
       "0     Diksha Suman (@beingsheblog)   \n",
       "1                    Naveen Sharma   \n",
       "2                    SAINATH REDDY   \n",
       "3                          Debojit   \n",
       "4                    BhaveshB.O.T™   \n",
       "...                            ...   \n",
       "1995                        Dipesh   \n",
       "1996              AkshAr KalathiYa   \n",
       "1997                yamjalamallesh   \n",
       "1998                     suprith m   \n",
       "1999                      Shaifali   \n",
       "\n",
       "                                                 review  \\\n",
       "0       Title: THINK AND GROW RICHAuthor: NAPOLEON H...   \n",
       "1       It took quarter of a century to accumulate i...   \n",
       "2       When you face criticism in your life try to ...   \n",
       "3       I was looking through some of the reviews an...   \n",
       "4       This book can also be called as Think and Gr...   \n",
       "...                                                 ...   \n",
       "1995               Can't explain, everyone please read.   \n",
       "1996         Book is really nice and print is also good   \n",
       "1997    I call it as granddaddy of all inspirational...   \n",
       "1998       Poor qualityPurchase from other publications   \n",
       "1999    The most economic thing in this world that y...   \n",
       "\n",
       "                                     normalised_reviews  index  \n",
       "0     title think grow richauthor napoleon hillpubli...      0  \n",
       "1     took quarter century accumulate information wr...      1  \n",
       "2     face criticism life try turn page book find wa...      2  \n",
       "3     looking review see people gave five star gave ...      3  \n",
       "4     book also called think grow skill think grow k...      4  \n",
       "...                                                 ...    ...  \n",
       "1995                       explain everyone please read   1994  \n",
       "1996                   book really nice print also good   1995  \n",
       "1997  call granddaddy inspirational motivational lit...   1996  \n",
       "1998                   poor qualitypurchase publication   1997  \n",
       "1999  economic thing world money buy may worth milio...   1998  \n",
       "\n",
       "[1999 rows x 4 columns]"
      ]
     },
     "execution_count": 48,
     "metadata": {},
     "output_type": "execute_result"
    }
   ],
   "source": [
    "df_vader = df.copy()\n",
    "df_vader.drop([\"sentiment_value\",\"word_count\", \"sentiment\"],axis = 1, inplace=True)\n",
    "df_vader"
   ]
  },
  {
   "cell_type": "code",
   "execution_count": 49,
   "metadata": {
    "colab": {
     "base_uri": "https://localhost:8080/",
     "height": 289
    },
    "id": "0RdUR80Dj_7x",
    "outputId": "ddc25d84-b4fe-4e68-96a3-69bbd252f294"
   },
   "outputs": [
    {
     "data": {
      "text/html": [
       "<div>\n",
       "<style scoped>\n",
       "    .dataframe tbody tr th:only-of-type {\n",
       "        vertical-align: middle;\n",
       "    }\n",
       "\n",
       "    .dataframe tbody tr th {\n",
       "        vertical-align: top;\n",
       "    }\n",
       "\n",
       "    .dataframe thead th {\n",
       "        text-align: right;\n",
       "    }\n",
       "</style>\n",
       "<table border=\"1\" class=\"dataframe\">\n",
       "  <thead>\n",
       "    <tr style=\"text-align: right;\">\n",
       "      <th></th>\n",
       "      <th>customer</th>\n",
       "      <th>review</th>\n",
       "      <th>normalised_reviews</th>\n",
       "      <th>index</th>\n",
       "      <th>scores</th>\n",
       "    </tr>\n",
       "  </thead>\n",
       "  <tbody>\n",
       "    <tr>\n",
       "      <th>0</th>\n",
       "      <td>Diksha Suman (@beingsheblog)</td>\n",
       "      <td>Title: THINK AND GROW RICHAuthor: NAPOLEON H...</td>\n",
       "      <td>title think grow richauthor napoleon hillpubli...</td>\n",
       "      <td>0</td>\n",
       "      <td>{'neg': 0.018, 'neu': 0.61, 'pos': 0.373, 'com...</td>\n",
       "    </tr>\n",
       "    <tr>\n",
       "      <th>1</th>\n",
       "      <td>Naveen Sharma</td>\n",
       "      <td>It took quarter of a century to accumulate i...</td>\n",
       "      <td>took quarter century accumulate information wr...</td>\n",
       "      <td>1</td>\n",
       "      <td>{'neg': 0.0, 'neu': 0.669, 'pos': 0.331, 'comp...</td>\n",
       "    </tr>\n",
       "    <tr>\n",
       "      <th>2</th>\n",
       "      <td>SAINATH REDDY</td>\n",
       "      <td>When you face criticism in your life try to ...</td>\n",
       "      <td>face criticism life try turn page book find wa...</td>\n",
       "      <td>2</td>\n",
       "      <td>{'neg': 0.143, 'neu': 0.586, 'pos': 0.271, 'co...</td>\n",
       "    </tr>\n",
       "    <tr>\n",
       "      <th>3</th>\n",
       "      <td>Debojit</td>\n",
       "      <td>I was looking through some of the reviews an...</td>\n",
       "      <td>looking review see people gave five star gave ...</td>\n",
       "      <td>3</td>\n",
       "      <td>{'neg': 0.086, 'neu': 0.641, 'pos': 0.273, 'co...</td>\n",
       "    </tr>\n",
       "    <tr>\n",
       "      <th>4</th>\n",
       "      <td>BhaveshB.O.T™</td>\n",
       "      <td>This book can also be called as Think and Gr...</td>\n",
       "      <td>book also called think grow skill think grow k...</td>\n",
       "      <td>4</td>\n",
       "      <td>{'neg': 0.025, 'neu': 0.633, 'pos': 0.343, 'co...</td>\n",
       "    </tr>\n",
       "  </tbody>\n",
       "</table>\n",
       "</div>"
      ],
      "text/plain": [
       "                       customer  \\\n",
       "0  Diksha Suman (@beingsheblog)   \n",
       "1                 Naveen Sharma   \n",
       "2                 SAINATH REDDY   \n",
       "3                       Debojit   \n",
       "4                 BhaveshB.O.T™   \n",
       "\n",
       "                                              review  \\\n",
       "0    Title: THINK AND GROW RICHAuthor: NAPOLEON H...   \n",
       "1    It took quarter of a century to accumulate i...   \n",
       "2    When you face criticism in your life try to ...   \n",
       "3    I was looking through some of the reviews an...   \n",
       "4    This book can also be called as Think and Gr...   \n",
       "\n",
       "                                  normalised_reviews  index  \\\n",
       "0  title think grow richauthor napoleon hillpubli...      0   \n",
       "1  took quarter century accumulate information wr...      1   \n",
       "2  face criticism life try turn page book find wa...      2   \n",
       "3  looking review see people gave five star gave ...      3   \n",
       "4  book also called think grow skill think grow k...      4   \n",
       "\n",
       "                                              scores  \n",
       "0  {'neg': 0.018, 'neu': 0.61, 'pos': 0.373, 'com...  \n",
       "1  {'neg': 0.0, 'neu': 0.669, 'pos': 0.331, 'comp...  \n",
       "2  {'neg': 0.143, 'neu': 0.586, 'pos': 0.271, 'co...  \n",
       "3  {'neg': 0.086, 'neu': 0.641, 'pos': 0.273, 'co...  \n",
       "4  {'neg': 0.025, 'neu': 0.633, 'pos': 0.343, 'co...  "
      ]
     },
     "execution_count": 49,
     "metadata": {},
     "output_type": "execute_result"
    }
   ],
   "source": [
    "df_vader['scores']  = df_vader['normalised_reviews'].apply(lambda review: analyzer_score(review))\n",
    "df_vader.head()\n"
   ]
  },
  {
   "cell_type": "code",
   "execution_count": 50,
   "metadata": {
    "colab": {
     "base_uri": "https://localhost:8080/",
     "height": 289
    },
    "id": "UHky49h9kGWh",
    "outputId": "1d5258fd-09a7-4973-972c-ee25e70607d6"
   },
   "outputs": [
    {
     "data": {
      "text/html": [
       "<div>\n",
       "<style scoped>\n",
       "    .dataframe tbody tr th:only-of-type {\n",
       "        vertical-align: middle;\n",
       "    }\n",
       "\n",
       "    .dataframe tbody tr th {\n",
       "        vertical-align: top;\n",
       "    }\n",
       "\n",
       "    .dataframe thead th {\n",
       "        text-align: right;\n",
       "    }\n",
       "</style>\n",
       "<table border=\"1\" class=\"dataframe\">\n",
       "  <thead>\n",
       "    <tr style=\"text-align: right;\">\n",
       "      <th></th>\n",
       "      <th>customer</th>\n",
       "      <th>review</th>\n",
       "      <th>normalised_reviews</th>\n",
       "      <th>index</th>\n",
       "      <th>scores</th>\n",
       "      <th>compound</th>\n",
       "    </tr>\n",
       "  </thead>\n",
       "  <tbody>\n",
       "    <tr>\n",
       "      <th>0</th>\n",
       "      <td>Diksha Suman (@beingsheblog)</td>\n",
       "      <td>Title: THINK AND GROW RICHAuthor: NAPOLEON H...</td>\n",
       "      <td>title think grow richauthor napoleon hillpubli...</td>\n",
       "      <td>0</td>\n",
       "      <td>{'neg': 0.018, 'neu': 0.61, 'pos': 0.373, 'com...</td>\n",
       "      <td>0.9873</td>\n",
       "    </tr>\n",
       "    <tr>\n",
       "      <th>1</th>\n",
       "      <td>Naveen Sharma</td>\n",
       "      <td>It took quarter of a century to accumulate i...</td>\n",
       "      <td>took quarter century accumulate information wr...</td>\n",
       "      <td>1</td>\n",
       "      <td>{'neg': 0.0, 'neu': 0.669, 'pos': 0.331, 'comp...</td>\n",
       "      <td>0.9850</td>\n",
       "    </tr>\n",
       "    <tr>\n",
       "      <th>2</th>\n",
       "      <td>SAINATH REDDY</td>\n",
       "      <td>When you face criticism in your life try to ...</td>\n",
       "      <td>face criticism life try turn page book find wa...</td>\n",
       "      <td>2</td>\n",
       "      <td>{'neg': 0.143, 'neu': 0.586, 'pos': 0.271, 'co...</td>\n",
       "      <td>0.6943</td>\n",
       "    </tr>\n",
       "    <tr>\n",
       "      <th>3</th>\n",
       "      <td>Debojit</td>\n",
       "      <td>I was looking through some of the reviews an...</td>\n",
       "      <td>looking review see people gave five star gave ...</td>\n",
       "      <td>3</td>\n",
       "      <td>{'neg': 0.086, 'neu': 0.641, 'pos': 0.273, 'co...</td>\n",
       "      <td>0.9728</td>\n",
       "    </tr>\n",
       "    <tr>\n",
       "      <th>4</th>\n",
       "      <td>BhaveshB.O.T™</td>\n",
       "      <td>This book can also be called as Think and Gr...</td>\n",
       "      <td>book also called think grow skill think grow k...</td>\n",
       "      <td>4</td>\n",
       "      <td>{'neg': 0.025, 'neu': 0.633, 'pos': 0.343, 'co...</td>\n",
       "      <td>0.9904</td>\n",
       "    </tr>\n",
       "  </tbody>\n",
       "</table>\n",
       "</div>"
      ],
      "text/plain": [
       "                       customer  \\\n",
       "0  Diksha Suman (@beingsheblog)   \n",
       "1                 Naveen Sharma   \n",
       "2                 SAINATH REDDY   \n",
       "3                       Debojit   \n",
       "4                 BhaveshB.O.T™   \n",
       "\n",
       "                                              review  \\\n",
       "0    Title: THINK AND GROW RICHAuthor: NAPOLEON H...   \n",
       "1    It took quarter of a century to accumulate i...   \n",
       "2    When you face criticism in your life try to ...   \n",
       "3    I was looking through some of the reviews an...   \n",
       "4    This book can also be called as Think and Gr...   \n",
       "\n",
       "                                  normalised_reviews  index  \\\n",
       "0  title think grow richauthor napoleon hillpubli...      0   \n",
       "1  took quarter century accumulate information wr...      1   \n",
       "2  face criticism life try turn page book find wa...      2   \n",
       "3  looking review see people gave five star gave ...      3   \n",
       "4  book also called think grow skill think grow k...      4   \n",
       "\n",
       "                                              scores  compound  \n",
       "0  {'neg': 0.018, 'neu': 0.61, 'pos': 0.373, 'com...    0.9873  \n",
       "1  {'neg': 0.0, 'neu': 0.669, 'pos': 0.331, 'comp...    0.9850  \n",
       "2  {'neg': 0.143, 'neu': 0.586, 'pos': 0.271, 'co...    0.6943  \n",
       "3  {'neg': 0.086, 'neu': 0.641, 'pos': 0.273, 'co...    0.9728  \n",
       "4  {'neg': 0.025, 'neu': 0.633, 'pos': 0.343, 'co...    0.9904  "
      ]
     },
     "execution_count": 50,
     "metadata": {},
     "output_type": "execute_result"
    }
   ],
   "source": [
    "df_vader['compound']  = df_vader['scores'].apply(lambda score_dict: score_dict['compound'])\n",
    "\n",
    "df_vader.head()"
   ]
  },
  {
   "cell_type": "code",
   "execution_count": 51,
   "metadata": {
    "colab": {
     "base_uri": "https://localhost:8080/",
     "height": 374
    },
    "id": "xep--4elm1uX",
    "outputId": "583e27d8-4e9b-49fa-d52b-926323ac9968"
   },
   "outputs": [
    {
     "data": {
      "text/html": [
       "<div>\n",
       "<style scoped>\n",
       "    .dataframe tbody tr th:only-of-type {\n",
       "        vertical-align: middle;\n",
       "    }\n",
       "\n",
       "    .dataframe tbody tr th {\n",
       "        vertical-align: top;\n",
       "    }\n",
       "\n",
       "    .dataframe thead th {\n",
       "        text-align: right;\n",
       "    }\n",
       "</style>\n",
       "<table border=\"1\" class=\"dataframe\">\n",
       "  <thead>\n",
       "    <tr style=\"text-align: right;\">\n",
       "      <th></th>\n",
       "      <th>customer</th>\n",
       "      <th>review</th>\n",
       "      <th>normalised_reviews</th>\n",
       "      <th>index</th>\n",
       "      <th>scores</th>\n",
       "      <th>compound</th>\n",
       "      <th>sentiment</th>\n",
       "    </tr>\n",
       "  </thead>\n",
       "  <tbody>\n",
       "    <tr>\n",
       "      <th>0</th>\n",
       "      <td>Diksha Suman (@beingsheblog)</td>\n",
       "      <td>Title: THINK AND GROW RICHAuthor: NAPOLEON H...</td>\n",
       "      <td>title think grow richauthor napoleon hillpubli...</td>\n",
       "      <td>0</td>\n",
       "      <td>{'neg': 0.018, 'neu': 0.61, 'pos': 0.373, 'com...</td>\n",
       "      <td>0.9873</td>\n",
       "      <td>Positive</td>\n",
       "    </tr>\n",
       "    <tr>\n",
       "      <th>1</th>\n",
       "      <td>Naveen Sharma</td>\n",
       "      <td>It took quarter of a century to accumulate i...</td>\n",
       "      <td>took quarter century accumulate information wr...</td>\n",
       "      <td>1</td>\n",
       "      <td>{'neg': 0.0, 'neu': 0.669, 'pos': 0.331, 'comp...</td>\n",
       "      <td>0.9850</td>\n",
       "      <td>Positive</td>\n",
       "    </tr>\n",
       "    <tr>\n",
       "      <th>2</th>\n",
       "      <td>SAINATH REDDY</td>\n",
       "      <td>When you face criticism in your life try to ...</td>\n",
       "      <td>face criticism life try turn page book find wa...</td>\n",
       "      <td>2</td>\n",
       "      <td>{'neg': 0.143, 'neu': 0.586, 'pos': 0.271, 'co...</td>\n",
       "      <td>0.6943</td>\n",
       "      <td>Positive</td>\n",
       "    </tr>\n",
       "    <tr>\n",
       "      <th>3</th>\n",
       "      <td>Debojit</td>\n",
       "      <td>I was looking through some of the reviews an...</td>\n",
       "      <td>looking review see people gave five star gave ...</td>\n",
       "      <td>3</td>\n",
       "      <td>{'neg': 0.086, 'neu': 0.641, 'pos': 0.273, 'co...</td>\n",
       "      <td>0.9728</td>\n",
       "      <td>Positive</td>\n",
       "    </tr>\n",
       "    <tr>\n",
       "      <th>4</th>\n",
       "      <td>BhaveshB.O.T™</td>\n",
       "      <td>This book can also be called as Think and Gr...</td>\n",
       "      <td>book also called think grow skill think grow k...</td>\n",
       "      <td>4</td>\n",
       "      <td>{'neg': 0.025, 'neu': 0.633, 'pos': 0.343, 'co...</td>\n",
       "      <td>0.9904</td>\n",
       "      <td>Positive</td>\n",
       "    </tr>\n",
       "  </tbody>\n",
       "</table>\n",
       "</div>"
      ],
      "text/plain": [
       "                       customer  \\\n",
       "0  Diksha Suman (@beingsheblog)   \n",
       "1                 Naveen Sharma   \n",
       "2                 SAINATH REDDY   \n",
       "3                       Debojit   \n",
       "4                 BhaveshB.O.T™   \n",
       "\n",
       "                                              review  \\\n",
       "0    Title: THINK AND GROW RICHAuthor: NAPOLEON H...   \n",
       "1    It took quarter of a century to accumulate i...   \n",
       "2    When you face criticism in your life try to ...   \n",
       "3    I was looking through some of the reviews an...   \n",
       "4    This book can also be called as Think and Gr...   \n",
       "\n",
       "                                  normalised_reviews  index  \\\n",
       "0  title think grow richauthor napoleon hillpubli...      0   \n",
       "1  took quarter century accumulate information wr...      1   \n",
       "2  face criticism life try turn page book find wa...      2   \n",
       "3  looking review see people gave five star gave ...      3   \n",
       "4  book also called think grow skill think grow k...      4   \n",
       "\n",
       "                                              scores  compound sentiment  \n",
       "0  {'neg': 0.018, 'neu': 0.61, 'pos': 0.373, 'com...    0.9873  Positive  \n",
       "1  {'neg': 0.0, 'neu': 0.669, 'pos': 0.331, 'comp...    0.9850  Positive  \n",
       "2  {'neg': 0.143, 'neu': 0.586, 'pos': 0.271, 'co...    0.6943  Positive  \n",
       "3  {'neg': 0.086, 'neu': 0.641, 'pos': 0.273, 'co...    0.9728  Positive  \n",
       "4  {'neg': 0.025, 'neu': 0.633, 'pos': 0.343, 'co...    0.9904  Positive  "
      ]
     },
     "execution_count": 51,
     "metadata": {},
     "output_type": "execute_result"
    }
   ],
   "source": [
    "def rating_allocator(x):\n",
    "    if x > 0.05:\n",
    "        x = \"Positive\"\n",
    "    elif x < -0.05:\n",
    "        x = \"Neutral\"\n",
    "    else:\n",
    "        x = \"Negative\"\n",
    "    return x\n",
    "df_vader[\"sentiment\"] = df_vader[\"compound\"].apply(rating_allocator)\n",
    "df_vader.head()"
   ]
  },
  {
   "cell_type": "code",
   "execution_count": 52,
   "metadata": {
    "colab": {
     "base_uri": "https://localhost:8080/",
     "height": 394
    },
    "id": "J79c7H-inwey",
    "outputId": "d261763d-6740-4fa7-dee8-1d8f90406166"
   },
   "outputs": [
    {
     "data": {
      "text/plain": [
       "<AxesSubplot:>"
      ]
     },
     "execution_count": 52,
     "metadata": {},
     "output_type": "execute_result"
    },
    {
     "data": {
      "image/png": "[encoded data removed]",
      "text/plain": [
       "<Figure size 576x396 with 1 Axes>"
      ]
     },
     "metadata": {},
     "output_type": "display_data"
    }
   ],
   "source": [
    "plt.style.use(\"seaborn\")\n",
    "df_vader.sentiment.value_counts().plot(kind = \"bar\")"
   ]
  },
  {
   "cell_type": "code",
   "execution_count": null,
   "metadata": {
    "id": "OSlP5eJnus8A"
   },
   "outputs": [],
   "source": []
  },
  {
   "cell_type": "markdown",
   "metadata": {
    "id": "B5WoSKSuuvK7"
   },
   "source": [
    "### Machine learning algorithms | Naive Bayes\n",
    "\n",
    "> Indented block\n",
    "\n"
   ]
  },
  {
   "cell_type": "code",
   "execution_count": 55,
   "metadata": {
    "colab": {
     "base_uri": "https://localhost:8080/",
     "height": 473
    },
    "id": "56TAa3STpE2g",
    "outputId": "e0f9b802-c076-4957-cbe9-5b607f626c24"
   },
   "outputs": [
    {
     "data": {
      "text/html": [
       "<div>\n",
       "<style scoped>\n",
       "    .dataframe tbody tr th:only-of-type {\n",
       "        vertical-align: middle;\n",
       "    }\n",
       "\n",
       "    .dataframe tbody tr th {\n",
       "        vertical-align: top;\n",
       "    }\n",
       "\n",
       "    .dataframe thead th {\n",
       "        text-align: right;\n",
       "    }\n",
       "</style>\n",
       "<table border=\"1\" class=\"dataframe\">\n",
       "  <thead>\n",
       "    <tr style=\"text-align: right;\">\n",
       "      <th></th>\n",
       "      <th>able</th>\n",
       "      <th>absolutely</th>\n",
       "      <th>achieve</th>\n",
       "      <th>achieve goal</th>\n",
       "      <th>achieve success</th>\n",
       "      <th>action</th>\n",
       "      <th>actually</th>\n",
       "      <th>almost</th>\n",
       "      <th>already</th>\n",
       "      <th>also</th>\n",
       "      <th>...</th>\n",
       "      <th>world</th>\n",
       "      <th>worth</th>\n",
       "      <th>worth buying</th>\n",
       "      <th>worth reading</th>\n",
       "      <th>would</th>\n",
       "      <th>writing</th>\n",
       "      <th>written</th>\n",
       "      <th>year</th>\n",
       "      <th>yes</th>\n",
       "      <th>yet</th>\n",
       "    </tr>\n",
       "  </thead>\n",
       "  <tbody>\n",
       "    <tr>\n",
       "      <th>0</th>\n",
       "      <td>0.0</td>\n",
       "      <td>0.0</td>\n",
       "      <td>0.0</td>\n",
       "      <td>0.0</td>\n",
       "      <td>0.0</td>\n",
       "      <td>0.0</td>\n",
       "      <td>0.0</td>\n",
       "      <td>0.0</td>\n",
       "      <td>0.0</td>\n",
       "      <td>0.097383</td>\n",
       "      <td>...</td>\n",
       "      <td>0.000000</td>\n",
       "      <td>0.000000</td>\n",
       "      <td>0.0</td>\n",
       "      <td>0.0</td>\n",
       "      <td>0.000000</td>\n",
       "      <td>0.0</td>\n",
       "      <td>0.000000</td>\n",
       "      <td>0.109185</td>\n",
       "      <td>0.0</td>\n",
       "      <td>0.0</td>\n",
       "    </tr>\n",
       "    <tr>\n",
       "      <th>1</th>\n",
       "      <td>0.0</td>\n",
       "      <td>0.0</td>\n",
       "      <td>0.0</td>\n",
       "      <td>0.0</td>\n",
       "      <td>0.0</td>\n",
       "      <td>0.0</td>\n",
       "      <td>0.0</td>\n",
       "      <td>0.0</td>\n",
       "      <td>0.0</td>\n",
       "      <td>0.000000</td>\n",
       "      <td>...</td>\n",
       "      <td>0.000000</td>\n",
       "      <td>0.000000</td>\n",
       "      <td>0.0</td>\n",
       "      <td>0.0</td>\n",
       "      <td>0.000000</td>\n",
       "      <td>0.0</td>\n",
       "      <td>0.227478</td>\n",
       "      <td>0.000000</td>\n",
       "      <td>0.0</td>\n",
       "      <td>0.0</td>\n",
       "    </tr>\n",
       "    <tr>\n",
       "      <th>2</th>\n",
       "      <td>0.0</td>\n",
       "      <td>0.0</td>\n",
       "      <td>0.0</td>\n",
       "      <td>0.0</td>\n",
       "      <td>0.0</td>\n",
       "      <td>0.0</td>\n",
       "      <td>0.0</td>\n",
       "      <td>0.0</td>\n",
       "      <td>0.0</td>\n",
       "      <td>0.000000</td>\n",
       "      <td>...</td>\n",
       "      <td>0.000000</td>\n",
       "      <td>0.000000</td>\n",
       "      <td>0.0</td>\n",
       "      <td>0.0</td>\n",
       "      <td>0.000000</td>\n",
       "      <td>0.0</td>\n",
       "      <td>0.000000</td>\n",
       "      <td>0.000000</td>\n",
       "      <td>0.0</td>\n",
       "      <td>0.0</td>\n",
       "    </tr>\n",
       "    <tr>\n",
       "      <th>3</th>\n",
       "      <td>0.0</td>\n",
       "      <td>0.0</td>\n",
       "      <td>0.0</td>\n",
       "      <td>0.0</td>\n",
       "      <td>0.0</td>\n",
       "      <td>0.0</td>\n",
       "      <td>0.0</td>\n",
       "      <td>0.0</td>\n",
       "      <td>0.0</td>\n",
       "      <td>0.160723</td>\n",
       "      <td>...</td>\n",
       "      <td>0.000000</td>\n",
       "      <td>0.000000</td>\n",
       "      <td>0.0</td>\n",
       "      <td>0.0</td>\n",
       "      <td>0.275107</td>\n",
       "      <td>0.0</td>\n",
       "      <td>0.000000</td>\n",
       "      <td>0.090100</td>\n",
       "      <td>0.0</td>\n",
       "      <td>0.0</td>\n",
       "    </tr>\n",
       "    <tr>\n",
       "      <th>4</th>\n",
       "      <td>0.0</td>\n",
       "      <td>0.0</td>\n",
       "      <td>0.0</td>\n",
       "      <td>0.0</td>\n",
       "      <td>0.0</td>\n",
       "      <td>0.0</td>\n",
       "      <td>0.0</td>\n",
       "      <td>0.0</td>\n",
       "      <td>0.0</td>\n",
       "      <td>0.092991</td>\n",
       "      <td>...</td>\n",
       "      <td>0.000000</td>\n",
       "      <td>0.000000</td>\n",
       "      <td>0.0</td>\n",
       "      <td>0.0</td>\n",
       "      <td>0.106115</td>\n",
       "      <td>0.0</td>\n",
       "      <td>0.000000</td>\n",
       "      <td>0.000000</td>\n",
       "      <td>0.0</td>\n",
       "      <td>0.0</td>\n",
       "    </tr>\n",
       "    <tr>\n",
       "      <th>...</th>\n",
       "      <td>...</td>\n",
       "      <td>...</td>\n",
       "      <td>...</td>\n",
       "      <td>...</td>\n",
       "      <td>...</td>\n",
       "      <td>...</td>\n",
       "      <td>...</td>\n",
       "      <td>...</td>\n",
       "      <td>...</td>\n",
       "      <td>...</td>\n",
       "      <td>...</td>\n",
       "      <td>...</td>\n",
       "      <td>...</td>\n",
       "      <td>...</td>\n",
       "      <td>...</td>\n",
       "      <td>...</td>\n",
       "      <td>...</td>\n",
       "      <td>...</td>\n",
       "      <td>...</td>\n",
       "      <td>...</td>\n",
       "      <td>...</td>\n",
       "    </tr>\n",
       "    <tr>\n",
       "      <th>1994</th>\n",
       "      <td>0.0</td>\n",
       "      <td>0.0</td>\n",
       "      <td>0.0</td>\n",
       "      <td>0.0</td>\n",
       "      <td>0.0</td>\n",
       "      <td>0.0</td>\n",
       "      <td>0.0</td>\n",
       "      <td>0.0</td>\n",
       "      <td>0.0</td>\n",
       "      <td>0.000000</td>\n",
       "      <td>...</td>\n",
       "      <td>0.000000</td>\n",
       "      <td>0.000000</td>\n",
       "      <td>0.0</td>\n",
       "      <td>0.0</td>\n",
       "      <td>0.000000</td>\n",
       "      <td>0.0</td>\n",
       "      <td>0.000000</td>\n",
       "      <td>0.000000</td>\n",
       "      <td>0.0</td>\n",
       "      <td>0.0</td>\n",
       "    </tr>\n",
       "    <tr>\n",
       "      <th>1995</th>\n",
       "      <td>0.0</td>\n",
       "      <td>0.0</td>\n",
       "      <td>0.0</td>\n",
       "      <td>0.0</td>\n",
       "      <td>0.0</td>\n",
       "      <td>0.0</td>\n",
       "      <td>0.0</td>\n",
       "      <td>0.0</td>\n",
       "      <td>0.0</td>\n",
       "      <td>0.356072</td>\n",
       "      <td>...</td>\n",
       "      <td>0.000000</td>\n",
       "      <td>0.000000</td>\n",
       "      <td>0.0</td>\n",
       "      <td>0.0</td>\n",
       "      <td>0.000000</td>\n",
       "      <td>0.0</td>\n",
       "      <td>0.000000</td>\n",
       "      <td>0.000000</td>\n",
       "      <td>0.0</td>\n",
       "      <td>0.0</td>\n",
       "    </tr>\n",
       "    <tr>\n",
       "      <th>1996</th>\n",
       "      <td>0.0</td>\n",
       "      <td>0.0</td>\n",
       "      <td>0.0</td>\n",
       "      <td>0.0</td>\n",
       "      <td>0.0</td>\n",
       "      <td>0.0</td>\n",
       "      <td>0.0</td>\n",
       "      <td>0.0</td>\n",
       "      <td>0.0</td>\n",
       "      <td>0.000000</td>\n",
       "      <td>...</td>\n",
       "      <td>0.000000</td>\n",
       "      <td>0.000000</td>\n",
       "      <td>0.0</td>\n",
       "      <td>0.0</td>\n",
       "      <td>0.000000</td>\n",
       "      <td>0.0</td>\n",
       "      <td>0.000000</td>\n",
       "      <td>0.000000</td>\n",
       "      <td>0.0</td>\n",
       "      <td>0.0</td>\n",
       "    </tr>\n",
       "    <tr>\n",
       "      <th>1997</th>\n",
       "      <td>0.0</td>\n",
       "      <td>0.0</td>\n",
       "      <td>0.0</td>\n",
       "      <td>0.0</td>\n",
       "      <td>0.0</td>\n",
       "      <td>0.0</td>\n",
       "      <td>0.0</td>\n",
       "      <td>0.0</td>\n",
       "      <td>0.0</td>\n",
       "      <td>0.000000</td>\n",
       "      <td>...</td>\n",
       "      <td>0.000000</td>\n",
       "      <td>0.000000</td>\n",
       "      <td>0.0</td>\n",
       "      <td>0.0</td>\n",
       "      <td>0.000000</td>\n",
       "      <td>0.0</td>\n",
       "      <td>0.000000</td>\n",
       "      <td>0.000000</td>\n",
       "      <td>0.0</td>\n",
       "      <td>0.0</td>\n",
       "    </tr>\n",
       "    <tr>\n",
       "      <th>1998</th>\n",
       "      <td>0.0</td>\n",
       "      <td>0.0</td>\n",
       "      <td>0.0</td>\n",
       "      <td>0.0</td>\n",
       "      <td>0.0</td>\n",
       "      <td>0.0</td>\n",
       "      <td>0.0</td>\n",
       "      <td>0.0</td>\n",
       "      <td>0.0</td>\n",
       "      <td>0.000000</td>\n",
       "      <td>...</td>\n",
       "      <td>0.367483</td>\n",
       "      <td>0.327314</td>\n",
       "      <td>0.0</td>\n",
       "      <td>0.0</td>\n",
       "      <td>0.000000</td>\n",
       "      <td>0.0</td>\n",
       "      <td>0.000000</td>\n",
       "      <td>0.000000</td>\n",
       "      <td>0.0</td>\n",
       "      <td>0.0</td>\n",
       "    </tr>\n",
       "  </tbody>\n",
       "</table>\n",
       "<p>1999 rows × 500 columns</p>\n",
       "</div>"
      ],
      "text/plain": [
       "      able  absolutely  achieve  achieve goal  achieve success  action  \\\n",
       "0      0.0         0.0      0.0           0.0              0.0     0.0   \n",
       "1      0.0         0.0      0.0           0.0              0.0     0.0   \n",
       "2      0.0         0.0      0.0           0.0              0.0     0.0   \n",
       "3      0.0         0.0      0.0           0.0              0.0     0.0   \n",
       "4      0.0         0.0      0.0           0.0              0.0     0.0   \n",
       "...    ...         ...      ...           ...              ...     ...   \n",
       "1994   0.0         0.0      0.0           0.0              0.0     0.0   \n",
       "1995   0.0         0.0      0.0           0.0              0.0     0.0   \n",
       "1996   0.0         0.0      0.0           0.0              0.0     0.0   \n",
       "1997   0.0         0.0      0.0           0.0              0.0     0.0   \n",
       "1998   0.0         0.0      0.0           0.0              0.0     0.0   \n",
       "\n",
       "      actually  almost  already      also  ...     world     worth  \\\n",
       "0          0.0     0.0      0.0  0.097383  ...  0.000000  0.000000   \n",
       "1          0.0     0.0      0.0  0.000000  ...  0.000000  0.000000   \n",
       "2          0.0     0.0      0.0  0.000000  ...  0.000000  0.000000   \n",
       "3          0.0     0.0      0.0  0.160723  ...  0.000000  0.000000   \n",
       "4          0.0     0.0      0.0  0.092991  ...  0.000000  0.000000   \n",
       "...        ...     ...      ...       ...  ...       ...       ...   \n",
       "1994       0.0     0.0      0.0  0.000000  ...  0.000000  0.000000   \n",
       "1995       0.0     0.0      0.0  0.356072  ...  0.000000  0.000000   \n",
       "1996       0.0     0.0      0.0  0.000000  ...  0.000000  0.000000   \n",
       "1997       0.0     0.0      0.0  0.000000  ...  0.000000  0.000000   \n",
       "1998       0.0     0.0      0.0  0.000000  ...  0.367483  0.327314   \n",
       "\n",
       "      worth buying  worth reading     would  writing   written      year  yes  \\\n",
       "0              0.0            0.0  0.000000      0.0  0.000000  0.109185  0.0   \n",
       "1              0.0            0.0  0.000000      0.0  0.227478  0.000000  0.0   \n",
       "2              0.0            0.0  0.000000      0.0  0.000000  0.000000  0.0   \n",
       "3              0.0            0.0  0.275107      0.0  0.000000  0.090100  0.0   \n",
       "4              0.0            0.0  0.106115      0.0  0.000000  0.000000  0.0   \n",
       "...            ...            ...       ...      ...       ...       ...  ...   \n",
       "1994           0.0            0.0  0.000000      0.0  0.000000  0.000000  0.0   \n",
       "1995           0.0            0.0  0.000000      0.0  0.000000  0.000000  0.0   \n",
       "1996           0.0            0.0  0.000000      0.0  0.000000  0.000000  0.0   \n",
       "1997           0.0            0.0  0.000000      0.0  0.000000  0.000000  0.0   \n",
       "1998           0.0            0.0  0.000000      0.0  0.000000  0.000000  0.0   \n",
       "\n",
       "      yet  \n",
       "0     0.0  \n",
       "1     0.0  \n",
       "2     0.0  \n",
       "3     0.0  \n",
       "4     0.0  \n",
       "...   ...  \n",
       "1994  0.0  \n",
       "1995  0.0  \n",
       "1996  0.0  \n",
       "1997  0.0  \n",
       "1998  0.0  \n",
       "\n",
       "[1999 rows x 500 columns]"
      ]
     },
     "execution_count": 55,
     "metadata": {},
     "output_type": "execute_result"
    }
   ],
   "source": [
    "from sklearn.feature_extraction.text import TfidfVectorizer\n",
    "vectorizer = TfidfVectorizer(norm=\"l2\",analyzer='word', ngram_range=(1,3), max_features = 500)\n",
    "tf_idf_matrix = vectorizer.fit_transform(df_vader[\"normalised_reviews\"])\n",
    "df_tfidfvect = pd.DataFrame(data = tf_idf_matrix.toarray(),columns = vectorizer.get_feature_names())\n",
    "df_tfidfvect\n"
   ]
  },
  {
   "cell_type": "code",
   "execution_count": null,
   "metadata": {
    "id": "cpqokZ_i5ExS"
   },
   "outputs": [],
   "source": []
  },
  {
   "cell_type": "markdown",
   "metadata": {
    "id": "PZlO9fot45Hr"
   },
   "source": [
    "## Conventional Approach\n"
   ]
  },
  {
   "cell_type": "code",
   "execution_count": 56,
   "metadata": {
    "colab": {
     "base_uri": "https://localhost:8080/"
    },
    "id": "SKMhFUWjvUB_",
    "outputId": "39cebac7-bad4-45d9-8191-628afe0421af"
   },
   "outputs": [
    {
     "data": {
      "text/plain": [
       "0       Positive\n",
       "1       Positive\n",
       "2       Positive\n",
       "3       Positive\n",
       "4       Positive\n",
       "          ...   \n",
       "1995    Positive\n",
       "1996    Positive\n",
       "1997    Positive\n",
       "1998     Neutral\n",
       "1999    Positive\n",
       "Name: sentiment, Length: 1999, dtype: object"
      ]
     },
     "execution_count": 56,
     "metadata": {},
     "output_type": "execute_result"
    }
   ],
   "source": [
    "from sklearn.naive_bayes import MultinomialNB\n",
    "from sklearn.model_selection import train_test_split\n",
    "from sklearn.preprocessing import LabelEncoder\n",
    "x = df_tfidfvect\n",
    "y1 = df_vader[\"sentiment\"]\n",
    "encoder = LabelEncoder()\n"
   ]
  },
  {
   "cell_type": "code",
   "execution_count": 57,
   "metadata": {
    "colab": {
     "base_uri": "https://localhost:8080/"
    },
    "id": "EhzEgdKxN7LH",
    "outputId": "e759f808-0563-4868-bb28-3242e6dd0096"
   },
   "outputs": [
    {
     "data": {
      "text/plain": [
       "{}"
      ]
     },
     "execution_count": 57,
     "metadata": {},
     "output_type": "execute_result"
    }
   ],
   "source": [
    "encoder.get_params()"
   ]
  },
  {
   "cell_type": "code",
   "execution_count": 60,
   "metadata": {
    "id": "sjVR8Czx4q53"
   },
   "outputs": [],
   "source": [
    "x_train, x_test, y_train, y_test = train_test_split(x, y1, test_size = 0.25, random_state= 43)"
   ]
  },
  {
   "cell_type": "code",
   "execution_count": 61,
   "metadata": {
    "colab": {
     "base_uri": "https://localhost:8080/"
    },
    "id": "vnbdSIyJz0Qd",
    "outputId": "efae89f0-d4c5-4478-dc7f-40b7edb2978b"
   },
   "outputs": [
    {
     "name": "stdout",
     "output_type": "stream",
     "text": [
      "(1499, 500) \n",
      "(500, 500), \n",
      "(1499,), \n",
      "(500,)\n"
     ]
    }
   ],
   "source": [
    "print(f\"{x_train.shape} \\n{x_test.shape}, \\n{y_train.shape}, \\n{y_test.shape}\")"
   ]
  },
  {
   "cell_type": "code",
   "execution_count": 62,
   "metadata": {
    "id": "HW36QMAk4d7m"
   },
   "outputs": [],
   "source": [
    "bayes_classifier = MultinomialNB()\n",
    "bayes_classifier.fit(x_train, y_train)\n",
    "y_pred = bayes_classifier.predict(x_test)"
   ]
  },
  {
   "cell_type": "code",
   "execution_count": 63,
   "metadata": {
    "id": "6sdZlMH65m33"
   },
   "outputs": [],
   "source": [
    "from sklearn.metrics import (accuracy_score, classification_report, plot_confusion_matrix, \n",
    "                             roc_auc_score, roc_curve)\n",
    "test_accuracy = accuracy_score(y_test,y_pred)\n"
   ]
  },
  {
   "cell_type": "code",
   "execution_count": 64,
   "metadata": {
    "id": "0JWIUPWY6PE1"
   },
   "outputs": [],
   "source": [
    "training_accuracy = accuracy_score(y_train, bayes_classifier.predict(x_train))"
   ]
  },
  {
   "cell_type": "code",
   "execution_count": 65,
   "metadata": {
    "colab": {
     "base_uri": "https://localhost:8080/"
    },
    "id": "DPuXeysd60IK",
    "outputId": "e428bd4d-aafc-45be-ceb5-295f492e2e90"
   },
   "outputs": [
    {
     "name": "stdout",
     "output_type": "stream",
     "text": [
      "Training Accuracy : 0.8525683789192795, Test Accuracy = 0.788\n"
     ]
    }
   ],
   "source": [
    "print(f\"Training Accuracy : {training_accuracy}, Test Accuracy = {test_accuracy}\")"
   ]
  },
  {
   "cell_type": "markdown",
   "metadata": {
    "id": "vfW6z_r_9ApZ"
   },
   "source": [
    "#### Here, the training accuracy is a bit more than test accuracy. So it might be a case of over fitting :("
   ]
  },
  {
   "cell_type": "markdown",
   "metadata": {
    "id": "az3Aiy7w5Fp-"
   },
   "source": [
    "## Using KFold"
   ]
  },
  {
   "cell_type": "code",
   "execution_count": 67,
   "metadata": {
    "colab": {
     "base_uri": "https://localhost:8080/"
    },
    "id": "3ArUAz5g0OyY",
    "outputId": "c8254858-bf40-40a8-8e0d-a1a3d2db91f4"
   },
   "outputs": [
    {
     "data": {
      "text/plain": [
       "array([0.865     , 0.9       , 0.845     , 0.835     , 0.77      ,\n",
       "       0.82      , 0.855     , 0.825     , 0.805     , 0.80904523])"
      ]
     },
     "execution_count": 67,
     "metadata": {},
     "output_type": "execute_result"
    }
   ],
   "source": [
    "from sklearn.model_selection import KFold,StratifiedKFold\n",
    "from sklearn.model_selection import cross_val_score\n",
    "kfolds = KFold(n_splits=10, random_state=43)\n",
    "score = cross_val_score(bayes_classifier, x, y1, cv=kfolds)\n",
    "score"
   ]
  },
  {
   "cell_type": "code",
   "execution_count": 68,
   "metadata": {
    "colab": {
     "base_uri": "https://localhost:8080/"
    },
    "id": "KgF9JwT84S7B",
    "outputId": "86100178-f526-4e06-9794-133765ed6869"
   },
   "outputs": [
    {
     "data": {
      "text/plain": [
       "83.29045226130653"
      ]
     },
     "execution_count": 68,
     "metadata": {},
     "output_type": "execute_result"
    }
   ],
   "source": [
    "acc_bayes = score.mean()*100\n",
    "acc_bayes"
   ]
  },
  {
   "cell_type": "markdown",
   "metadata": {
    "id": "O1SiRzrjpJ5k"
   },
   "source": [
    "## Sampling\n"
   ]
  },
  {
   "cell_type": "code",
   "execution_count": 71,
   "metadata": {
    "colab": {
     "base_uri": "https://localhost:8080/"
    },
    "id": "lpahnk6NUrw1",
    "outputId": "dc4ecf15-ae6d-4603-a148-603d6c1203d8"
   },
   "outputs": [],
   "source": [
    "from imblearn.over_sampling import RandomOverSampler"
   ]
  },
  {
   "cell_type": "code",
   "execution_count": 72,
   "metadata": {
    "id": "LvS6SIgOU7V7"
   },
   "outputs": [],
   "source": [
    "sm = RandomOverSampler()"
   ]
  },
  {
   "cell_type": "code",
   "execution_count": 73,
   "metadata": {},
   "outputs": [
    {
     "name": "stderr",
     "output_type": "stream",
     "text": [
      "D:\\Installation\\Anaconda\\lib\\site-packages\\seaborn\\_decorators.py:36: FutureWarning: Pass the following variable as a keyword arg: x. From version 0.12, the only valid positional argument will be `data`, and passing other arguments without an explicit keyword will result in an error or misinterpretation.\n",
      "  warnings.warn(\n"
     ]
    },
    {
     "data": {
      "text/plain": [
       "<AxesSubplot:xlabel='sentiment', ylabel='count'>"
      ]
     },
     "execution_count": 73,
     "metadata": {},
     "output_type": "execute_result"
    },
    {
     "data": {
      "image/png": "[encoded data removed]",
      "text/plain": [
       "<Figure size 576x396 with 1 Axes>"
      ]
     },
     "metadata": {},
     "output_type": "display_data"
    }
   ],
   "source": [
    "x1,y2=sm.fit_resample(x,y1)\n",
    "sns.countplot(y2)"
   ]
  },
  {
   "cell_type": "code",
   "execution_count": 74,
   "metadata": {
    "colab": {
     "base_uri": "https://localhost:8080/"
    },
    "id": "t_k3ci4bWP6n",
    "outputId": "b994c488-e605-4f09-8e80-bda6c06a7495"
   },
   "outputs": [
    {
     "data": {
      "text/plain": [
       "Counter({'Positive': 1668, 'Neutral': 1668, 'Negative': 1668})"
      ]
     },
     "execution_count": 74,
     "metadata": {},
     "output_type": "execute_result"
    }
   ],
   "source": [
    "from collections import Counter\n",
    "Counter(y2)"
   ]
  },
  {
   "cell_type": "code",
   "execution_count": null,
   "metadata": {},
   "outputs": [],
   "source": []
  },
  {
   "cell_type": "markdown",
   "metadata": {
    "id": "IwYS3IBSrTSO"
   },
   "source": [
    "## Naive bayes for over sampled data"
   ]
  },
  {
   "cell_type": "code",
   "execution_count": 75,
   "metadata": {
    "colab": {
     "base_uri": "https://localhost:8080/"
    },
    "id": "riO18KJiWxBN",
    "outputId": "dadf33ed-bc46-4d45-be4d-775efec16c7c"
   },
   "outputs": [],
   "source": [
    "sampled_bayes = MultinomialNB()\n",
    "#sampled_bayes.fit(x1,y2)"
   ]
  },
  {
   "cell_type": "code",
   "execution_count": 76,
   "metadata": {},
   "outputs": [
    {
     "name": "stderr",
     "output_type": "stream",
     "text": [
      "D:\\Installation\\Anaconda\\lib\\site-packages\\sklearn\\model_selection\\_split.py:292: FutureWarning: Setting a random_state has no effect since shuffle is False. This will raise an error in 0.24. You should leave random_state to its default (None), or set shuffle=True.\n",
      "  warnings.warn(\n"
     ]
    },
    {
     "data": {
      "text/plain": [
       "0.7309964071856287"
      ]
     },
     "execution_count": 76,
     "metadata": {},
     "output_type": "execute_result"
    }
   ],
   "source": [
    "from sklearn.model_selection import KFold,StratifiedKFold\n",
    "from sklearn.model_selection import cross_val_score\n",
    "kfolds = KFold(n_splits=10, random_state=20)\n",
    "score = cross_val_score(sampled_bayes, x1, y2, cv=kfolds)\n",
    "score.mean()"
   ]
  },
  {
   "cell_type": "code",
   "execution_count": 77,
   "metadata": {},
   "outputs": [
    {
     "data": {
      "text/plain": [
       "MultinomialNB(alpha=1.0, class_prior=None, fit_prior=True)"
      ]
     },
     "execution_count": 77,
     "metadata": {},
     "output_type": "execute_result"
    }
   ],
   "source": [
    "sampled_bayes.fit(x1,y2)"
   ]
  },
  {
   "cell_type": "code",
   "execution_count": 78,
   "metadata": {},
   "outputs": [],
   "source": [
    "y_pred2=sampled_bayes.predict(x1)"
   ]
  },
  {
   "cell_type": "code",
   "execution_count": 80,
   "metadata": {},
   "outputs": [
    {
     "data": {
      "text/plain": [
       "array([[1504,  150,  141],\n",
       "       [ 132, 1452,  131],\n",
       "       [  32,   66, 1396]], dtype=int64)"
      ]
     },
     "execution_count": 80,
     "metadata": {},
     "output_type": "execute_result"
    }
   ],
   "source": [
    "from sklearn.metrics import confusion_matrix\n",
    "confusion_matrix(y_pred2,y2)"
   ]
  },
  {
   "cell_type": "markdown",
   "metadata": {
    "id": "evvfQssFlqcH"
   },
   "source": [
    "## Random Forest"
   ]
  },
  {
   "cell_type": "code",
   "execution_count": 81,
   "metadata": {
    "colab": {
     "base_uri": "https://localhost:8080/"
    },
    "id": "lfvcFYBjlu_i",
    "outputId": "2965e5eb-74b4-4db4-837d-2f0110dfb1b2"
   },
   "outputs": [
    {
     "name": "stderr",
     "output_type": "stream",
     "text": [
      "D:\\Installation\\Anaconda\\lib\\site-packages\\sklearn\\model_selection\\_split.py:292: FutureWarning: Setting a random_state has no effect since shuffle is False. This will raise an error in 0.24. You should leave random_state to its default (None), or set shuffle=True.\n",
      "  warnings.warn(\n"
     ]
    },
    {
     "data": {
      "text/plain": [
       "0.9572694610778443"
      ]
     },
     "execution_count": 81,
     "metadata": {},
     "output_type": "execute_result"
    }
   ],
   "source": [
    "from sklearn.ensemble import RandomForestClassifier\n",
    "\n",
    "sampled_rf = RandomForestClassifier(n_estimators=100)\n",
    "kfolds = KFold(n_splits=10, random_state=20)\n",
    "sampled_rf_results = cross_val_score(sampled_rf, x1,y2, cv = kfolds)\n",
    "sampled_rf_results.mean()"
   ]
  },
  {
   "cell_type": "code",
   "execution_count": 82,
   "metadata": {},
   "outputs": [
    {
     "data": {
      "text/plain": [
       "RandomForestClassifier(bootstrap=True, ccp_alpha=0.0, class_weight=None,\n",
       "                       criterion='gini', max_depth=None, max_features='auto',\n",
       "                       max_leaf_nodes=None, max_samples=None,\n",
       "                       min_impurity_decrease=0.0, min_impurity_split=None,\n",
       "                       min_samples_leaf=1, min_samples_split=2,\n",
       "                       min_weight_fraction_leaf=0.0, n_estimators=100,\n",
       "                       n_jobs=None, oob_score=False, random_state=None,\n",
       "                       verbose=0, warm_start=False)"
      ]
     },
     "execution_count": 82,
     "metadata": {},
     "output_type": "execute_result"
    }
   ],
   "source": [
    "sampled_rf.fit(x1,y2)"
   ]
  },
  {
   "cell_type": "code",
   "execution_count": 83,
   "metadata": {},
   "outputs": [],
   "source": [
    "y_pred=sampled_rf.predict(x1)\n"
   ]
  },
  {
   "cell_type": "code",
   "execution_count": 84,
   "metadata": {},
   "outputs": [
    {
     "data": {
      "text/plain": [
       "array([[1668,   38,   13],\n",
       "       [   0, 1630,    0],\n",
       "       [   0,    0, 1655]], dtype=int64)"
      ]
     },
     "execution_count": 84,
     "metadata": {},
     "output_type": "execute_result"
    }
   ],
   "source": [
    " confusion_matrix(y_pred,y2)"
   ]
  },
  {
   "cell_type": "markdown",
   "metadata": {
    "id": "hiSZeDF5Hgih"
   },
   "source": [
    "## SVM"
   ]
  },
  {
   "cell_type": "code",
   "execution_count": 85,
   "metadata": {
    "id": "ZMlmXxoHHk2R"
   },
   "outputs": [
    {
     "name": "stderr",
     "output_type": "stream",
     "text": [
      "D:\\Installation\\Anaconda\\lib\\site-packages\\sklearn\\model_selection\\_split.py:292: FutureWarning: Setting a random_state has no effect since shuffle is False. This will raise an error in 0.24. You should leave random_state to its default (None), or set shuffle=True.\n",
      "  warnings.warn(\n"
     ]
    },
    {
     "data": {
      "text/plain": [
       "0.9786275449101796"
      ]
     },
     "execution_count": 85,
     "metadata": {},
     "output_type": "execute_result"
    }
   ],
   "source": [
    "from sklearn.svm import SVC\n",
    "from sklearn.model_selection import GridSearchCV\n",
    "sampled_svm = SVC()\n",
    "\n",
    "kfolds = KFold(n_splits=10, random_state=20)\n",
    "sampled_rf_results = cross_val_score(sampled_svm , x1,y2, cv = kfolds)\n",
    "sampled_rf_results.mean()"
   ]
  },
  {
   "cell_type": "code",
   "execution_count": 86,
   "metadata": {},
   "outputs": [
    {
     "data": {
      "text/plain": [
       "SVC(C=1.0, break_ties=False, cache_size=200, class_weight=None, coef0=0.0,\n",
       "    decision_function_shape='ovr', degree=3, gamma='scale', kernel='rbf',\n",
       "    max_iter=-1, probability=False, random_state=None, shrinking=True,\n",
       "    tol=0.001, verbose=False)"
      ]
     },
     "execution_count": 86,
     "metadata": {},
     "output_type": "execute_result"
    }
   ],
   "source": [
    "sampled_svm.fit(x1,y2)"
   ]
  },
  {
   "cell_type": "code",
   "execution_count": 87,
   "metadata": {},
   "outputs": [],
   "source": [
    "y_pred1=sampled_svm.predict(x1)"
   ]
  },
  {
   "cell_type": "code",
   "execution_count": 88,
   "metadata": {},
   "outputs": [
    {
     "data": {
      "text/plain": [
       "array([[1668,    0,    0],\n",
       "       [  38, 1630,    0],\n",
       "       [  14,    1, 1653]], dtype=int64)"
      ]
     },
     "execution_count": 88,
     "metadata": {},
     "output_type": "execute_result"
    }
   ],
   "source": [
    "confusion_matrix(y2,y_pred1)"
   ]
  },
  {
   "cell_type": "code",
   "execution_count": 89,
   "metadata": {
    "id": "YmTYN01SFza3"
   },
   "outputs": [
    {
     "data": {
      "text/plain": [
       "array(['Neutral'], dtype='<U8')"
      ]
     },
     "execution_count": 89,
     "metadata": {},
     "output_type": "execute_result"
    }
   ],
   "source": [
    "sampled_bayes.predict(vectorizer.transform([\"book is not that bad ok product can buy\"]).toarray())"
   ]
  },
  {
   "cell_type": "code",
   "execution_count": null,
   "metadata": {
    "id": "lUafAC4iFzuE"
   },
   "outputs": [],
   "source": [
    "#import pickle"
   ]
  },
  {
   "cell_type": "code",
   "execution_count": null,
   "metadata": {
    "id": "dJ15VFIKFz6n"
   },
   "outputs": [],
   "source": [
    "#pickle.dump(sampled_svm,open('E:/svm.pkl','wb'))"
   ]
  }
 ],
 "metadata": {
  "colab": {
   "collapsed_sections": [],
   "name": "project_draft1_modelbuilding.ipynb",
   "provenance": []
  },
  "kernelspec": {
   "display_name": "Python 3",
   "language": "python",
   "name": "python3"
  },
  "language_info": {
   "codemirror_mode": {
    "name": "ipython",
    "version": 3
   },
   "file_extension": ".py",
   "mimetype": "text/x-python",
   "name": "python",
   "nbconvert_exporter": "python",
   "pygments_lexer": "ipython3",
   "version": "3.8.8"
  }
 },
 "nbformat": 4,
 "nbformat_minor": 1
}
